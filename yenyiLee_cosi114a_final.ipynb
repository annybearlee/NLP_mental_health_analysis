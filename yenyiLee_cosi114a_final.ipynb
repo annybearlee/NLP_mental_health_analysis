{
  "cells": [
    {
      "cell_type": "code",
      "execution_count": 31,
      "metadata": {
        "id": "C8_3CcE4FezU"
      },
      "outputs": [],
      "source": [
        "import pandas as pd\n",
        "import numpy as np\n",
        "import matplotlib.pyplot as plt\n",
        "import seaborn as sns"
      ]
    },
    {
      "cell_type": "markdown",
      "metadata": {
        "id": "6hTHoM6UBjWQ"
      },
      "source": [
        "## Importing data"
      ]
    },
    {
      "cell_type": "code",
      "execution_count": 32,
      "metadata": {
        "id": "cYozEO82Fi12"
      },
      "outputs": [],
      "source": [
        "data = pd.read_csv(\"Combined Data.csv\")"
      ]
    },
    {
      "cell_type": "code",
      "execution_count": 33,
      "metadata": {
        "colab": {
          "base_uri": "https://localhost:8080/",
          "height": 206
        },
        "id": "dNSexjLwGR_9",
        "outputId": "bdc2f980-9605-4215-9bfc-012dc98011f2"
      },
      "outputs": [
        {
          "output_type": "execute_result",
          "data": {
            "text/plain": [
              "   Unnamed: 0                                          statement   status\n",
              "0           0                                         oh my gosh  Anxiety\n",
              "1           1  trouble sleeping, confused mind, restless hear...  Anxiety\n",
              "2           2  All wrong, back off dear, forward doubt. Stay ...  Anxiety\n",
              "3           3  I've shifted my focus to something else but I'...  Anxiety\n",
              "4           4  I'm restless and restless, it's been a month n...  Anxiety"
            ],
            "text/html": [
              "\n",
              "  <div id=\"df-3a4a14d3-5710-439b-9179-bba1a3f287c5\" class=\"colab-df-container\">\n",
              "    <div>\n",
              "<style scoped>\n",
              "    .dataframe tbody tr th:only-of-type {\n",
              "        vertical-align: middle;\n",
              "    }\n",
              "\n",
              "    .dataframe tbody tr th {\n",
              "        vertical-align: top;\n",
              "    }\n",
              "\n",
              "    .dataframe thead th {\n",
              "        text-align: right;\n",
              "    }\n",
              "</style>\n",
              "<table border=\"1\" class=\"dataframe\">\n",
              "  <thead>\n",
              "    <tr style=\"text-align: right;\">\n",
              "      <th></th>\n",
              "      <th>Unnamed: 0</th>\n",
              "      <th>statement</th>\n",
              "      <th>status</th>\n",
              "    </tr>\n",
              "  </thead>\n",
              "  <tbody>\n",
              "    <tr>\n",
              "      <th>0</th>\n",
              "      <td>0</td>\n",
              "      <td>oh my gosh</td>\n",
              "      <td>Anxiety</td>\n",
              "    </tr>\n",
              "    <tr>\n",
              "      <th>1</th>\n",
              "      <td>1</td>\n",
              "      <td>trouble sleeping, confused mind, restless hear...</td>\n",
              "      <td>Anxiety</td>\n",
              "    </tr>\n",
              "    <tr>\n",
              "      <th>2</th>\n",
              "      <td>2</td>\n",
              "      <td>All wrong, back off dear, forward doubt. Stay ...</td>\n",
              "      <td>Anxiety</td>\n",
              "    </tr>\n",
              "    <tr>\n",
              "      <th>3</th>\n",
              "      <td>3</td>\n",
              "      <td>I've shifted my focus to something else but I'...</td>\n",
              "      <td>Anxiety</td>\n",
              "    </tr>\n",
              "    <tr>\n",
              "      <th>4</th>\n",
              "      <td>4</td>\n",
              "      <td>I'm restless and restless, it's been a month n...</td>\n",
              "      <td>Anxiety</td>\n",
              "    </tr>\n",
              "  </tbody>\n",
              "</table>\n",
              "</div>\n",
              "    <div class=\"colab-df-buttons\">\n",
              "\n",
              "  <div class=\"colab-df-container\">\n",
              "    <button class=\"colab-df-convert\" onclick=\"convertToInteractive('df-3a4a14d3-5710-439b-9179-bba1a3f287c5')\"\n",
              "            title=\"Convert this dataframe to an interactive table.\"\n",
              "            style=\"display:none;\">\n",
              "\n",
              "  <svg xmlns=\"http://www.w3.org/2000/svg\" height=\"24px\" viewBox=\"0 -960 960 960\">\n",
              "    <path d=\"M120-120v-720h720v720H120Zm60-500h600v-160H180v160Zm220 220h160v-160H400v160Zm0 220h160v-160H400v160ZM180-400h160v-160H180v160Zm440 0h160v-160H620v160ZM180-180h160v-160H180v160Zm440 0h160v-160H620v160Z\"/>\n",
              "  </svg>\n",
              "    </button>\n",
              "\n",
              "  <style>\n",
              "    .colab-df-container {\n",
              "      display:flex;\n",
              "      gap: 12px;\n",
              "    }\n",
              "\n",
              "    .colab-df-convert {\n",
              "      background-color: #E8F0FE;\n",
              "      border: none;\n",
              "      border-radius: 50%;\n",
              "      cursor: pointer;\n",
              "      display: none;\n",
              "      fill: #1967D2;\n",
              "      height: 32px;\n",
              "      padding: 0 0 0 0;\n",
              "      width: 32px;\n",
              "    }\n",
              "\n",
              "    .colab-df-convert:hover {\n",
              "      background-color: #E2EBFA;\n",
              "      box-shadow: 0px 1px 2px rgba(60, 64, 67, 0.3), 0px 1px 3px 1px rgba(60, 64, 67, 0.15);\n",
              "      fill: #174EA6;\n",
              "    }\n",
              "\n",
              "    .colab-df-buttons div {\n",
              "      margin-bottom: 4px;\n",
              "    }\n",
              "\n",
              "    [theme=dark] .colab-df-convert {\n",
              "      background-color: #3B4455;\n",
              "      fill: #D2E3FC;\n",
              "    }\n",
              "\n",
              "    [theme=dark] .colab-df-convert:hover {\n",
              "      background-color: #434B5C;\n",
              "      box-shadow: 0px 1px 3px 1px rgba(0, 0, 0, 0.15);\n",
              "      filter: drop-shadow(0px 1px 2px rgba(0, 0, 0, 0.3));\n",
              "      fill: #FFFFFF;\n",
              "    }\n",
              "  </style>\n",
              "\n",
              "    <script>\n",
              "      const buttonEl =\n",
              "        document.querySelector('#df-3a4a14d3-5710-439b-9179-bba1a3f287c5 button.colab-df-convert');\n",
              "      buttonEl.style.display =\n",
              "        google.colab.kernel.accessAllowed ? 'block' : 'none';\n",
              "\n",
              "      async function convertToInteractive(key) {\n",
              "        const element = document.querySelector('#df-3a4a14d3-5710-439b-9179-bba1a3f287c5');\n",
              "        const dataTable =\n",
              "          await google.colab.kernel.invokeFunction('convertToInteractive',\n",
              "                                                    [key], {});\n",
              "        if (!dataTable) return;\n",
              "\n",
              "        const docLinkHtml = 'Like what you see? Visit the ' +\n",
              "          '<a target=\"_blank\" href=https://colab.research.google.com/notebooks/data_table.ipynb>data table notebook</a>'\n",
              "          + ' to learn more about interactive tables.';\n",
              "        element.innerHTML = '';\n",
              "        dataTable['output_type'] = 'display_data';\n",
              "        await google.colab.output.renderOutput(dataTable, element);\n",
              "        const docLink = document.createElement('div');\n",
              "        docLink.innerHTML = docLinkHtml;\n",
              "        element.appendChild(docLink);\n",
              "      }\n",
              "    </script>\n",
              "  </div>\n",
              "\n",
              "\n",
              "<div id=\"df-c8f91eb3-160c-4f88-86ad-9243b3a678f7\">\n",
              "  <button class=\"colab-df-quickchart\" onclick=\"quickchart('df-c8f91eb3-160c-4f88-86ad-9243b3a678f7')\"\n",
              "            title=\"Suggest charts\"\n",
              "            style=\"display:none;\">\n",
              "\n",
              "<svg xmlns=\"http://www.w3.org/2000/svg\" height=\"24px\"viewBox=\"0 0 24 24\"\n",
              "     width=\"24px\">\n",
              "    <g>\n",
              "        <path d=\"M19 3H5c-1.1 0-2 .9-2 2v14c0 1.1.9 2 2 2h14c1.1 0 2-.9 2-2V5c0-1.1-.9-2-2-2zM9 17H7v-7h2v7zm4 0h-2V7h2v10zm4 0h-2v-4h2v4z\"/>\n",
              "    </g>\n",
              "</svg>\n",
              "  </button>\n",
              "\n",
              "<style>\n",
              "  .colab-df-quickchart {\n",
              "      --bg-color: #E8F0FE;\n",
              "      --fill-color: #1967D2;\n",
              "      --hover-bg-color: #E2EBFA;\n",
              "      --hover-fill-color: #174EA6;\n",
              "      --disabled-fill-color: #AAA;\n",
              "      --disabled-bg-color: #DDD;\n",
              "  }\n",
              "\n",
              "  [theme=dark] .colab-df-quickchart {\n",
              "      --bg-color: #3B4455;\n",
              "      --fill-color: #D2E3FC;\n",
              "      --hover-bg-color: #434B5C;\n",
              "      --hover-fill-color: #FFFFFF;\n",
              "      --disabled-bg-color: #3B4455;\n",
              "      --disabled-fill-color: #666;\n",
              "  }\n",
              "\n",
              "  .colab-df-quickchart {\n",
              "    background-color: var(--bg-color);\n",
              "    border: none;\n",
              "    border-radius: 50%;\n",
              "    cursor: pointer;\n",
              "    display: none;\n",
              "    fill: var(--fill-color);\n",
              "    height: 32px;\n",
              "    padding: 0;\n",
              "    width: 32px;\n",
              "  }\n",
              "\n",
              "  .colab-df-quickchart:hover {\n",
              "    background-color: var(--hover-bg-color);\n",
              "    box-shadow: 0 1px 2px rgba(60, 64, 67, 0.3), 0 1px 3px 1px rgba(60, 64, 67, 0.15);\n",
              "    fill: var(--button-hover-fill-color);\n",
              "  }\n",
              "\n",
              "  .colab-df-quickchart-complete:disabled,\n",
              "  .colab-df-quickchart-complete:disabled:hover {\n",
              "    background-color: var(--disabled-bg-color);\n",
              "    fill: var(--disabled-fill-color);\n",
              "    box-shadow: none;\n",
              "  }\n",
              "\n",
              "  .colab-df-spinner {\n",
              "    border: 2px solid var(--fill-color);\n",
              "    border-color: transparent;\n",
              "    border-bottom-color: var(--fill-color);\n",
              "    animation:\n",
              "      spin 1s steps(1) infinite;\n",
              "  }\n",
              "\n",
              "  @keyframes spin {\n",
              "    0% {\n",
              "      border-color: transparent;\n",
              "      border-bottom-color: var(--fill-color);\n",
              "      border-left-color: var(--fill-color);\n",
              "    }\n",
              "    20% {\n",
              "      border-color: transparent;\n",
              "      border-left-color: var(--fill-color);\n",
              "      border-top-color: var(--fill-color);\n",
              "    }\n",
              "    30% {\n",
              "      border-color: transparent;\n",
              "      border-left-color: var(--fill-color);\n",
              "      border-top-color: var(--fill-color);\n",
              "      border-right-color: var(--fill-color);\n",
              "    }\n",
              "    40% {\n",
              "      border-color: transparent;\n",
              "      border-right-color: var(--fill-color);\n",
              "      border-top-color: var(--fill-color);\n",
              "    }\n",
              "    60% {\n",
              "      border-color: transparent;\n",
              "      border-right-color: var(--fill-color);\n",
              "    }\n",
              "    80% {\n",
              "      border-color: transparent;\n",
              "      border-right-color: var(--fill-color);\n",
              "      border-bottom-color: var(--fill-color);\n",
              "    }\n",
              "    90% {\n",
              "      border-color: transparent;\n",
              "      border-bottom-color: var(--fill-color);\n",
              "    }\n",
              "  }\n",
              "</style>\n",
              "\n",
              "  <script>\n",
              "    async function quickchart(key) {\n",
              "      const quickchartButtonEl =\n",
              "        document.querySelector('#' + key + ' button');\n",
              "      quickchartButtonEl.disabled = true;  // To prevent multiple clicks.\n",
              "      quickchartButtonEl.classList.add('colab-df-spinner');\n",
              "      try {\n",
              "        const charts = await google.colab.kernel.invokeFunction(\n",
              "            'suggestCharts', [key], {});\n",
              "      } catch (error) {\n",
              "        console.error('Error during call to suggestCharts:', error);\n",
              "      }\n",
              "      quickchartButtonEl.classList.remove('colab-df-spinner');\n",
              "      quickchartButtonEl.classList.add('colab-df-quickchart-complete');\n",
              "    }\n",
              "    (() => {\n",
              "      let quickchartButtonEl =\n",
              "        document.querySelector('#df-c8f91eb3-160c-4f88-86ad-9243b3a678f7 button');\n",
              "      quickchartButtonEl.style.display =\n",
              "        google.colab.kernel.accessAllowed ? 'block' : 'none';\n",
              "    })();\n",
              "  </script>\n",
              "</div>\n",
              "\n",
              "    </div>\n",
              "  </div>\n"
            ],
            "application/vnd.google.colaboratory.intrinsic+json": {
              "type": "dataframe",
              "variable_name": "data",
              "summary": "{\n  \"name\": \"data\",\n  \"rows\": 53043,\n  \"fields\": [\n    {\n      \"column\": \"Unnamed: 0\",\n      \"properties\": {\n        \"dtype\": \"number\",\n        \"std\": 15312,\n        \"min\": 0,\n        \"max\": 53042,\n        \"num_unique_values\": 53043,\n        \"samples\": [\n          22261,\n          41400,\n          20065\n        ],\n        \"semantic_type\": \"\",\n        \"description\": \"\"\n      }\n    },\n    {\n      \"column\": \"statement\",\n      \"properties\": {\n        \"dtype\": \"string\",\n        \"num_unique_values\": 51073,\n        \"samples\": [\n          \"he's been a chain smoker for 30 years.\",\n          \"Dependence on therapist I attend IOP groups and individual therapy sessions at the same place, my therapist who I have worked with on and off for a year and a couple months just told me today that she is leaving soon and I am heartbroken. I love my therapist and I don't know how I am going to keep progressing without her. There will be a replacement for her but idk what to do, I don't want a different therapist. :(\",\n          \"These feelings constantly come back. Someone from my past that hurt me came back a month ago and once again disrespected me and i just feel like shit. Idk why these feelings keep resurfacing but it just hurts. I do not want to be over dramatic but Its hurts when you were nothing but loving/kind to someone and they disrespect you. I just hate feeling like this, feeling like i cannot trust anyone or that no one would ever truly love me unless i have something to offer. I am always worried about my looks and its just making me depressed. I really do not feel like i fit in with the world I am just here. Idk what my next step should be to get help but I am really going through it. (Yes I am in therapy) but how do i help myself ? I have been depressed/anxious for years and most day i do not even leave my house. But nobody around me seems to care and honestly I am tired of feeling this way. But at the same time i do not want to give up on myself bc i feel like I am here to be somebody great. I am just trying to find my way right now. It keeps coming back\"\n        ],\n        \"semantic_type\": \"\",\n        \"description\": \"\"\n      }\n    },\n    {\n      \"column\": \"status\",\n      \"properties\": {\n        \"dtype\": \"category\",\n        \"num_unique_values\": 7,\n        \"samples\": [\n          \"Anxiety\",\n          \"Normal\",\n          \"Bipolar\"\n        ],\n        \"semantic_type\": \"\",\n        \"description\": \"\"\n      }\n    }\n  ]\n}"
            }
          },
          "metadata": {},
          "execution_count": 33
        }
      ],
      "source": [
        "data.head()"
      ]
    },
    {
      "cell_type": "code",
      "execution_count": 34,
      "metadata": {
        "colab": {
          "base_uri": "https://localhost:8080/",
          "height": 300
        },
        "id": "4Ib73nN3Gdyt",
        "outputId": "0ad13406-2ef7-4971-c6cb-ebf02e18f4ed"
      },
      "outputs": [
        {
          "output_type": "execute_result",
          "data": {
            "text/plain": [
              "         Unnamed: 0\n",
              "count  53043.000000\n",
              "mean   26521.000000\n",
              "std    15312.339501\n",
              "min        0.000000\n",
              "25%    13260.500000\n",
              "50%    26521.000000\n",
              "75%    39781.500000\n",
              "max    53042.000000"
            ],
            "text/html": [
              "\n",
              "  <div id=\"df-5fd66733-2e18-41af-baba-0ff0393996b1\" class=\"colab-df-container\">\n",
              "    <div>\n",
              "<style scoped>\n",
              "    .dataframe tbody tr th:only-of-type {\n",
              "        vertical-align: middle;\n",
              "    }\n",
              "\n",
              "    .dataframe tbody tr th {\n",
              "        vertical-align: top;\n",
              "    }\n",
              "\n",
              "    .dataframe thead th {\n",
              "        text-align: right;\n",
              "    }\n",
              "</style>\n",
              "<table border=\"1\" class=\"dataframe\">\n",
              "  <thead>\n",
              "    <tr style=\"text-align: right;\">\n",
              "      <th></th>\n",
              "      <th>Unnamed: 0</th>\n",
              "    </tr>\n",
              "  </thead>\n",
              "  <tbody>\n",
              "    <tr>\n",
              "      <th>count</th>\n",
              "      <td>53043.000000</td>\n",
              "    </tr>\n",
              "    <tr>\n",
              "      <th>mean</th>\n",
              "      <td>26521.000000</td>\n",
              "    </tr>\n",
              "    <tr>\n",
              "      <th>std</th>\n",
              "      <td>15312.339501</td>\n",
              "    </tr>\n",
              "    <tr>\n",
              "      <th>min</th>\n",
              "      <td>0.000000</td>\n",
              "    </tr>\n",
              "    <tr>\n",
              "      <th>25%</th>\n",
              "      <td>13260.500000</td>\n",
              "    </tr>\n",
              "    <tr>\n",
              "      <th>50%</th>\n",
              "      <td>26521.000000</td>\n",
              "    </tr>\n",
              "    <tr>\n",
              "      <th>75%</th>\n",
              "      <td>39781.500000</td>\n",
              "    </tr>\n",
              "    <tr>\n",
              "      <th>max</th>\n",
              "      <td>53042.000000</td>\n",
              "    </tr>\n",
              "  </tbody>\n",
              "</table>\n",
              "</div>\n",
              "    <div class=\"colab-df-buttons\">\n",
              "\n",
              "  <div class=\"colab-df-container\">\n",
              "    <button class=\"colab-df-convert\" onclick=\"convertToInteractive('df-5fd66733-2e18-41af-baba-0ff0393996b1')\"\n",
              "            title=\"Convert this dataframe to an interactive table.\"\n",
              "            style=\"display:none;\">\n",
              "\n",
              "  <svg xmlns=\"http://www.w3.org/2000/svg\" height=\"24px\" viewBox=\"0 -960 960 960\">\n",
              "    <path d=\"M120-120v-720h720v720H120Zm60-500h600v-160H180v160Zm220 220h160v-160H400v160Zm0 220h160v-160H400v160ZM180-400h160v-160H180v160Zm440 0h160v-160H620v160ZM180-180h160v-160H180v160Zm440 0h160v-160H620v160Z\"/>\n",
              "  </svg>\n",
              "    </button>\n",
              "\n",
              "  <style>\n",
              "    .colab-df-container {\n",
              "      display:flex;\n",
              "      gap: 12px;\n",
              "    }\n",
              "\n",
              "    .colab-df-convert {\n",
              "      background-color: #E8F0FE;\n",
              "      border: none;\n",
              "      border-radius: 50%;\n",
              "      cursor: pointer;\n",
              "      display: none;\n",
              "      fill: #1967D2;\n",
              "      height: 32px;\n",
              "      padding: 0 0 0 0;\n",
              "      width: 32px;\n",
              "    }\n",
              "\n",
              "    .colab-df-convert:hover {\n",
              "      background-color: #E2EBFA;\n",
              "      box-shadow: 0px 1px 2px rgba(60, 64, 67, 0.3), 0px 1px 3px 1px rgba(60, 64, 67, 0.15);\n",
              "      fill: #174EA6;\n",
              "    }\n",
              "\n",
              "    .colab-df-buttons div {\n",
              "      margin-bottom: 4px;\n",
              "    }\n",
              "\n",
              "    [theme=dark] .colab-df-convert {\n",
              "      background-color: #3B4455;\n",
              "      fill: #D2E3FC;\n",
              "    }\n",
              "\n",
              "    [theme=dark] .colab-df-convert:hover {\n",
              "      background-color: #434B5C;\n",
              "      box-shadow: 0px 1px 3px 1px rgba(0, 0, 0, 0.15);\n",
              "      filter: drop-shadow(0px 1px 2px rgba(0, 0, 0, 0.3));\n",
              "      fill: #FFFFFF;\n",
              "    }\n",
              "  </style>\n",
              "\n",
              "    <script>\n",
              "      const buttonEl =\n",
              "        document.querySelector('#df-5fd66733-2e18-41af-baba-0ff0393996b1 button.colab-df-convert');\n",
              "      buttonEl.style.display =\n",
              "        google.colab.kernel.accessAllowed ? 'block' : 'none';\n",
              "\n",
              "      async function convertToInteractive(key) {\n",
              "        const element = document.querySelector('#df-5fd66733-2e18-41af-baba-0ff0393996b1');\n",
              "        const dataTable =\n",
              "          await google.colab.kernel.invokeFunction('convertToInteractive',\n",
              "                                                    [key], {});\n",
              "        if (!dataTable) return;\n",
              "\n",
              "        const docLinkHtml = 'Like what you see? Visit the ' +\n",
              "          '<a target=\"_blank\" href=https://colab.research.google.com/notebooks/data_table.ipynb>data table notebook</a>'\n",
              "          + ' to learn more about interactive tables.';\n",
              "        element.innerHTML = '';\n",
              "        dataTable['output_type'] = 'display_data';\n",
              "        await google.colab.output.renderOutput(dataTable, element);\n",
              "        const docLink = document.createElement('div');\n",
              "        docLink.innerHTML = docLinkHtml;\n",
              "        element.appendChild(docLink);\n",
              "      }\n",
              "    </script>\n",
              "  </div>\n",
              "\n",
              "\n",
              "<div id=\"df-77ae1908-b930-4e13-a18a-580a152c41a1\">\n",
              "  <button class=\"colab-df-quickchart\" onclick=\"quickchart('df-77ae1908-b930-4e13-a18a-580a152c41a1')\"\n",
              "            title=\"Suggest charts\"\n",
              "            style=\"display:none;\">\n",
              "\n",
              "<svg xmlns=\"http://www.w3.org/2000/svg\" height=\"24px\"viewBox=\"0 0 24 24\"\n",
              "     width=\"24px\">\n",
              "    <g>\n",
              "        <path d=\"M19 3H5c-1.1 0-2 .9-2 2v14c0 1.1.9 2 2 2h14c1.1 0 2-.9 2-2V5c0-1.1-.9-2-2-2zM9 17H7v-7h2v7zm4 0h-2V7h2v10zm4 0h-2v-4h2v4z\"/>\n",
              "    </g>\n",
              "</svg>\n",
              "  </button>\n",
              "\n",
              "<style>\n",
              "  .colab-df-quickchart {\n",
              "      --bg-color: #E8F0FE;\n",
              "      --fill-color: #1967D2;\n",
              "      --hover-bg-color: #E2EBFA;\n",
              "      --hover-fill-color: #174EA6;\n",
              "      --disabled-fill-color: #AAA;\n",
              "      --disabled-bg-color: #DDD;\n",
              "  }\n",
              "\n",
              "  [theme=dark] .colab-df-quickchart {\n",
              "      --bg-color: #3B4455;\n",
              "      --fill-color: #D2E3FC;\n",
              "      --hover-bg-color: #434B5C;\n",
              "      --hover-fill-color: #FFFFFF;\n",
              "      --disabled-bg-color: #3B4455;\n",
              "      --disabled-fill-color: #666;\n",
              "  }\n",
              "\n",
              "  .colab-df-quickchart {\n",
              "    background-color: var(--bg-color);\n",
              "    border: none;\n",
              "    border-radius: 50%;\n",
              "    cursor: pointer;\n",
              "    display: none;\n",
              "    fill: var(--fill-color);\n",
              "    height: 32px;\n",
              "    padding: 0;\n",
              "    width: 32px;\n",
              "  }\n",
              "\n",
              "  .colab-df-quickchart:hover {\n",
              "    background-color: var(--hover-bg-color);\n",
              "    box-shadow: 0 1px 2px rgba(60, 64, 67, 0.3), 0 1px 3px 1px rgba(60, 64, 67, 0.15);\n",
              "    fill: var(--button-hover-fill-color);\n",
              "  }\n",
              "\n",
              "  .colab-df-quickchart-complete:disabled,\n",
              "  .colab-df-quickchart-complete:disabled:hover {\n",
              "    background-color: var(--disabled-bg-color);\n",
              "    fill: var(--disabled-fill-color);\n",
              "    box-shadow: none;\n",
              "  }\n",
              "\n",
              "  .colab-df-spinner {\n",
              "    border: 2px solid var(--fill-color);\n",
              "    border-color: transparent;\n",
              "    border-bottom-color: var(--fill-color);\n",
              "    animation:\n",
              "      spin 1s steps(1) infinite;\n",
              "  }\n",
              "\n",
              "  @keyframes spin {\n",
              "    0% {\n",
              "      border-color: transparent;\n",
              "      border-bottom-color: var(--fill-color);\n",
              "      border-left-color: var(--fill-color);\n",
              "    }\n",
              "    20% {\n",
              "      border-color: transparent;\n",
              "      border-left-color: var(--fill-color);\n",
              "      border-top-color: var(--fill-color);\n",
              "    }\n",
              "    30% {\n",
              "      border-color: transparent;\n",
              "      border-left-color: var(--fill-color);\n",
              "      border-top-color: var(--fill-color);\n",
              "      border-right-color: var(--fill-color);\n",
              "    }\n",
              "    40% {\n",
              "      border-color: transparent;\n",
              "      border-right-color: var(--fill-color);\n",
              "      border-top-color: var(--fill-color);\n",
              "    }\n",
              "    60% {\n",
              "      border-color: transparent;\n",
              "      border-right-color: var(--fill-color);\n",
              "    }\n",
              "    80% {\n",
              "      border-color: transparent;\n",
              "      border-right-color: var(--fill-color);\n",
              "      border-bottom-color: var(--fill-color);\n",
              "    }\n",
              "    90% {\n",
              "      border-color: transparent;\n",
              "      border-bottom-color: var(--fill-color);\n",
              "    }\n",
              "  }\n",
              "</style>\n",
              "\n",
              "  <script>\n",
              "    async function quickchart(key) {\n",
              "      const quickchartButtonEl =\n",
              "        document.querySelector('#' + key + ' button');\n",
              "      quickchartButtonEl.disabled = true;  // To prevent multiple clicks.\n",
              "      quickchartButtonEl.classList.add('colab-df-spinner');\n",
              "      try {\n",
              "        const charts = await google.colab.kernel.invokeFunction(\n",
              "            'suggestCharts', [key], {});\n",
              "      } catch (error) {\n",
              "        console.error('Error during call to suggestCharts:', error);\n",
              "      }\n",
              "      quickchartButtonEl.classList.remove('colab-df-spinner');\n",
              "      quickchartButtonEl.classList.add('colab-df-quickchart-complete');\n",
              "    }\n",
              "    (() => {\n",
              "      let quickchartButtonEl =\n",
              "        document.querySelector('#df-77ae1908-b930-4e13-a18a-580a152c41a1 button');\n",
              "      quickchartButtonEl.style.display =\n",
              "        google.colab.kernel.accessAllowed ? 'block' : 'none';\n",
              "    })();\n",
              "  </script>\n",
              "</div>\n",
              "\n",
              "    </div>\n",
              "  </div>\n"
            ],
            "application/vnd.google.colaboratory.intrinsic+json": {
              "type": "dataframe",
              "summary": "{\n  \"name\": \"data\",\n  \"rows\": 8,\n  \"fields\": [\n    {\n      \"column\": \"Unnamed: 0\",\n      \"properties\": {\n        \"dtype\": \"number\",\n        \"std\": 19116.73485585149,\n        \"min\": 0.0,\n        \"max\": 53043.0,\n        \"num_unique_values\": 7,\n        \"samples\": [\n          53043.0,\n          26521.0,\n          39781.5\n        ],\n        \"semantic_type\": \"\",\n        \"description\": \"\"\n      }\n    }\n  ]\n}"
            }
          },
          "metadata": {},
          "execution_count": 34
        }
      ],
      "source": [
        "data.describe()"
      ]
    },
    {
      "cell_type": "code",
      "execution_count": 35,
      "metadata": {
        "colab": {
          "base_uri": "https://localhost:8080/"
        },
        "id": "YgQnph41Ggw2",
        "outputId": "770ccb79-abd9-4de5-bdbb-80cf67e0681a"
      },
      "outputs": [
        {
          "output_type": "stream",
          "name": "stdout",
          "text": [
            "<class 'pandas.core.frame.DataFrame'>\n",
            "RangeIndex: 53043 entries, 0 to 53042\n",
            "Data columns (total 3 columns):\n",
            " #   Column      Non-Null Count  Dtype \n",
            "---  ------      --------------  ----- \n",
            " 0   Unnamed: 0  53043 non-null  int64 \n",
            " 1   statement   52681 non-null  object\n",
            " 2   status      53043 non-null  object\n",
            "dtypes: int64(1), object(2)\n",
            "memory usage: 1.2+ MB\n"
          ]
        }
      ],
      "source": [
        "data.info()"
      ]
    },
    {
      "cell_type": "code",
      "execution_count": 36,
      "metadata": {
        "colab": {
          "base_uri": "https://localhost:8080/",
          "height": 335
        },
        "id": "XOIeHso0Gksh",
        "outputId": "ea14c4d2-f070-4a80-d9e1-562a75242fc0"
      },
      "outputs": [
        {
          "output_type": "execute_result",
          "data": {
            "text/plain": [
              "status\n",
              "Normal                  16351\n",
              "Depression              15404\n",
              "Suicidal                10653\n",
              "Anxiety                  3888\n",
              "Bipolar                  2877\n",
              "Stress                   2669\n",
              "Personality disorder     1201\n",
              "Name: count, dtype: int64"
            ],
            "text/html": [
              "<div>\n",
              "<style scoped>\n",
              "    .dataframe tbody tr th:only-of-type {\n",
              "        vertical-align: middle;\n",
              "    }\n",
              "\n",
              "    .dataframe tbody tr th {\n",
              "        vertical-align: top;\n",
              "    }\n",
              "\n",
              "    .dataframe thead th {\n",
              "        text-align: right;\n",
              "    }\n",
              "</style>\n",
              "<table border=\"1\" class=\"dataframe\">\n",
              "  <thead>\n",
              "    <tr style=\"text-align: right;\">\n",
              "      <th></th>\n",
              "      <th>count</th>\n",
              "    </tr>\n",
              "    <tr>\n",
              "      <th>status</th>\n",
              "      <th></th>\n",
              "    </tr>\n",
              "  </thead>\n",
              "  <tbody>\n",
              "    <tr>\n",
              "      <th>Normal</th>\n",
              "      <td>16351</td>\n",
              "    </tr>\n",
              "    <tr>\n",
              "      <th>Depression</th>\n",
              "      <td>15404</td>\n",
              "    </tr>\n",
              "    <tr>\n",
              "      <th>Suicidal</th>\n",
              "      <td>10653</td>\n",
              "    </tr>\n",
              "    <tr>\n",
              "      <th>Anxiety</th>\n",
              "      <td>3888</td>\n",
              "    </tr>\n",
              "    <tr>\n",
              "      <th>Bipolar</th>\n",
              "      <td>2877</td>\n",
              "    </tr>\n",
              "    <tr>\n",
              "      <th>Stress</th>\n",
              "      <td>2669</td>\n",
              "    </tr>\n",
              "    <tr>\n",
              "      <th>Personality disorder</th>\n",
              "      <td>1201</td>\n",
              "    </tr>\n",
              "  </tbody>\n",
              "</table>\n",
              "</div><br><label><b>dtype:</b> int64</label>"
            ]
          },
          "metadata": {},
          "execution_count": 36
        }
      ],
      "source": [
        "data.status.value_counts()"
      ]
    },
    {
      "cell_type": "code",
      "execution_count": 37,
      "metadata": {
        "colab": {
          "base_uri": "https://localhost:8080/"
        },
        "id": "o0sUTqvBwp4g",
        "outputId": "c84bbebf-0574-4694-e094-82f2aca237b8"
      },
      "outputs": [
        {
          "output_type": "stream",
          "name": "stdout",
          "text": [
            "Index(['Unnamed: 0', 'statement', 'status'], dtype='object')\n"
          ]
        }
      ],
      "source": [
        "print(data.columns)"
      ]
    },
    {
      "cell_type": "code",
      "execution_count": 38,
      "metadata": {
        "colab": {
          "base_uri": "https://localhost:8080/"
        },
        "id": "lvED-LOkGkgE",
        "outputId": "a5b3fc5d-fe66-48eb-b84d-6b71fa847818"
      },
      "outputs": [
        {
          "output_type": "stream",
          "name": "stdout",
          "text": [
            "Status: Anxiety\n",
            "Statement: I swear my teacher is full of surprises, it makes me anxious\n",
            "\n",
            "Status: Bipolar\n",
            "Statement: Severe anxiety after being admitted and realeases...help!! I need help! I cant do this!its a continuous fullblown anxiety!!\n",
            "\n",
            "Status: Depression\n",
            "Statement: a an fyi i wa diagnosed at with ocd usual hand washing fear of germ thought of death checking thing over and over again different trigger didn t leave the house for two year it s well controlled now but i m worried now that it s having an impact of relationship so she wa at the time now i m we chatted for two month dated for went on date but mainly she wanted sex had a lot of sex more than actual going out and doing stuff she becomes distant then when we see each other again she say she want to see me more we end up texting a lot a she wa always unavailable either with friend family or her guy friend she would see him more than me we re texting a lot so i tell her how i feel and that i want to see her more few day later she break up with me with a text won t go into detail why i try and text call her everything at first she ignored me then she gave me a couple of reply saying we ll talk thanks me for birthday gift i d gotten her before we d broken up then she just cut me off two week later she s in a very public relationship with her guy friend who wa seeing a lot when we were together and even stayed over in his place not long before she ended thing my problem is i couldn t accept that it wa over just after a text even before i knew she wa in a new relationship i replied to her she ignored me few day later she reply tell me we ll talk she then ignores me again i call her a day later she ignores me and cut off my call she message me a few day later thanking me for a birthday present i d given her before we d broken up apologises for ignoring me and say she shuts down and act weird in situation like this i tell her she doesn t have to feel that way and can talk to me to tell me what s gone on then send her a voice clip trying to talk her round she ignores so i tell her i won t try again except i did and messaged her happy birthday she replied and i try and make conversation she ignores me i then ask her if she want her stuff back she ignores me two week later i see she s in the relationship so i message her telling her how i felt and that it wa right to end thing a she wasn t making time for me i m bothered that i couldn t just let go and it s making me more concerned that maybe this is my ocd making me obsessed with someone and that i didn t actually feel anything for her i feel like i ve been set back about 0 year here worrying whether i acted normal or whether it wa driven by my ocd\n",
            "\n",
            "Status: Normal\n",
            "Statement:  Two of my best friends for  the last 10 years are drifting away from me. I got diagnosed with PTSD  1½ year ago, and back then they were very supportive. But in the last  6-9 months; in fact, almost ever since early retirement funded by the  government got on the table, they havn't contacted me that much. Normally, we write through email, but it's been around 3 months since I last got an email from them. Yesterday, I took initiative  and wrote them both CC.\n",
            "\n",
            "Status: Personality disorder\n",
            "Statement: I am hurting Lately I just feel like garbage. I havent left the house much in like 2 weeks, and I've been missing class. It all feels too overwhelming for me, but being at home makes me feel like trash too...I cant win. I cant sleep right either. I wake up every other hour and im so tired....\n",
            "\n",
            "I feel so angry and anxious lately too because I feel as if everyone hates me and that they're happier without me. My friends hardly talk to me lately. I see them on social media chatting and making plans to call/play games and im never included lately. Im not surprised though. Who'd want to be friends with someone as depressed and broken as me?\n",
            "\n",
            "I want to crawl in a hole and disappear :(\n",
            "\n",
            "Status: Stress\n",
            "Statement: Stress at work making me physically ill I work at an engineering firm that surveys underground utilities and drain systems. I started work last July and it has been a never ending stream of all consuming stress and anxiety for me. It feels like I can’t escape from work and it never ends, and it feels like no matter how hard I try my work always gets thrown back at me with my boss telling me it’s horribly wrong and that I had no idea what I was doing. It’s not like I don’t ask him for help either, he will review my work and offer revisions, only to go back and find new instances that he didn’t mention before. \n",
            "If all I had to do was draft I’d be okay with that. But because the company is so small everyone does every project on their own start to finish, from proposal to cost estimate to survey to drafting to finish. All I know how to do is draft, and because everyone has been so busy I haven’t been able to learn the other skills. \n",
            "I’ve also been given another near impossible task that I have been trying to teach myself how to do, but I also haven’t even had time in my work day to do that. \n",
            "Even my coworkers are all older than me by a significant margin, and have been in this business for quite some time. They live to work, and I don’t have anything in common in which forms camaraderie. \n",
            "Literally the only thing keeping me here is the pay. Which is very good, but I cant live like this. I feel exhausted and broken when I get home. I feel like I can’t do anything after. I sit at my desk literally watching my hair fall out and feeling like I am sick from dealing with this. Is this just what adult life and and adult job is? I don’t feel like I’m cut out for this, I can’t believe I’m going to Reddit to vent, and I need help.\n",
            "\n",
            "TLDR: almost every facet of my engineering job is stressing me out and I don’t know what to do.\n",
            "\n",
            "Status: Suicidal\n",
            "Statement: Maybe ill still be able to see someone again one last time after that who cares.I cannot find anyone and I cannot get over someone covid ruined that I am tired of having waited months for nothing and I am especially tired of having to pay for it to be faked Was going to vaccinated this sun day but I guess id rather drink my self to death.\n",
            "\n"
          ]
        }
      ],
      "source": [
        "# Group by status and get a random statement from each group\n",
        "random_statements = data.groupby('status')['statement'].apply(lambda x: x.sample(n=1).iloc[0])\n",
        "\n",
        "# Print the results\n",
        "for status, statement in random_statements.items():\n",
        "    print(f\"Status: {status}\")\n",
        "    print(f\"Statement: {statement}\\n\")"
      ]
    },
    {
      "cell_type": "markdown",
      "metadata": {
        "id": "XFdb9ZNo_JN2"
      },
      "source": [
        "## Preprocessing"
      ]
    },
    {
      "cell_type": "code",
      "execution_count": 39,
      "metadata": {
        "colab": {
          "base_uri": "https://localhost:8080/"
        },
        "id": "WfhwFY3-7CzU",
        "outputId": "16ae069b-ad2e-4bc4-dd2a-7e8d2d3e385d"
      },
      "outputs": [
        {
          "output_type": "stream",
          "name": "stderr",
          "text": [
            "[nltk_data] Downloading package punkt to /root/nltk_data...\n",
            "[nltk_data]   Package punkt is already up-to-date!\n"
          ]
        },
        {
          "output_type": "execute_result",
          "data": {
            "text/plain": [
              "True"
            ]
          },
          "metadata": {},
          "execution_count": 39
        }
      ],
      "source": [
        "import nltk\n",
        "nltk.download('punkt')"
      ]
    },
    {
      "cell_type": "markdown",
      "metadata": {
        "id": "zhiq6zu0Wddk"
      },
      "source": [
        "2.1 Create a new column for cleaned_text and lower the texts\n"
      ]
    },
    {
      "cell_type": "code",
      "execution_count": 40,
      "metadata": {
        "colab": {
          "base_uri": "https://localhost:8080/"
        },
        "collapsed": true,
        "id": "TN52m5eeCQWX",
        "outputId": "df4419c6-6aec-4ffb-e407-47587f27e6a2"
      },
      "outputs": [
        {
          "output_type": "stream",
          "name": "stdout",
          "text": [
            "                                       original_text  \\\n",
            "0                                         oh my gosh   \n",
            "1  trouble sleeping, confused mind, restless hear...   \n",
            "2  All wrong, back off dear, forward doubt. Stay ...   \n",
            "3  I've shifted my focus to something else but I'...   \n",
            "4  I'm restless and restless, it's been a month n...   \n",
            "\n",
            "                                        cleaned_text  \n",
            "0                                         oh my gosh  \n",
            "1  trouble sleeping, confused mind, restless hear...  \n",
            "2  all wrong, back off dear, forward doubt. stay ...  \n",
            "3  i've shifted my focus to something else but i'...  \n",
            "4  i'm restless and restless, it's been a month n...  \n"
          ]
        }
      ],
      "source": [
        "# rename 'statement' to 'original_text'\n",
        "data.rename(columns={'statement': 'original_text'}, inplace=True)\n",
        "\n",
        "# create a new column for preprocessing and lower the texts\n",
        "data['cleaned_text'] = data['original_text'].str.lower()\n",
        "\n",
        "# preview the dataframe\n",
        "print(data[['original_text', 'cleaned_text']].head())"
      ]
    },
    {
      "cell_type": "markdown",
      "metadata": {
        "id": "FcTE5yzJGmzK"
      },
      "source": [
        "2.2 Remove URLs, special characters, punctuations..."
      ]
    },
    {
      "cell_type": "code",
      "execution_count": 41,
      "metadata": {
        "colab": {
          "base_uri": "https://localhost:8080/"
        },
        "collapsed": true,
        "id": "s_mM3v13zBSb",
        "outputId": "d638ed40-a8d2-4719-e406-afead70d4e8a"
      },
      "outputs": [
        {
          "output_type": "stream",
          "name": "stdout",
          "text": [
            "   Unnamed: 0                                      original_text   status  \\\n",
            "0           0                                         oh my gosh  Anxiety   \n",
            "1           1  trouble sleeping, confused mind, restless hear...  Anxiety   \n",
            "2           2  All wrong, back off dear, forward doubt. Stay ...  Anxiety   \n",
            "3           3  I've shifted my focus to something else but I'...  Anxiety   \n",
            "4           4  I'm restless and restless, it's been a month n...  Anxiety   \n",
            "\n",
            "                                        cleaned_text  \n",
            "0                                         oh my gosh  \n",
            "1  trouble sleeping confused mind restless heart ...  \n",
            "2  all wrong back off dear forward doubt stay in ...  \n",
            "3  ive shifted my focus to something else but im ...  \n",
            "4  im restless and restless its been a month now ...  \n"
          ]
        }
      ],
      "source": [
        "import re\n",
        "\n",
        "# text preprocessing\n",
        "def preprocess_text(text):\n",
        "    if not isinstance(text, str):  # Handle non-string values\n",
        "        text = \"\"\n",
        "\n",
        "    # Remove URLs\n",
        "    text = re.sub(r'http[s]?://\\S+', '', text)\n",
        "    # Remove markdown-style links\n",
        "    text = re.sub(r'\\[.*?\\]\\(.*?\\)', '', text)\n",
        "    # Remove handles (that start with '@')\n",
        "    text = re.sub(r'@\\w+', '', text)\n",
        "    # Remove special characters, numbers, and punctuation\n",
        "    text = re.sub(r'[^a-zA-Z\\s]', '', text)\n",
        "    # Remove newline characters\n",
        "    text = re.sub(r'\\n', ' ', text)\n",
        "    # Remove words containing numbers\n",
        "    text = re.sub(r'\\w*\\d\\w*', '', text)\n",
        "    return text.strip()\n",
        "\n",
        "# apply the function\n",
        "data['cleaned_text'] = data['cleaned_text'].apply(preprocess_text)\n",
        "\n",
        "# preview the dataframe\n",
        "print(data.head())\n",
        "\n",
        "\n"
      ]
    },
    {
      "cell_type": "markdown",
      "metadata": {
        "id": "kePfxSokNBdq"
      },
      "source": [
        "2.3 Tokenization"
      ]
    },
    {
      "cell_type": "code",
      "execution_count": 42,
      "metadata": {
        "colab": {
          "base_uri": "https://localhost:8080/"
        },
        "id": "L5_fV6CvEXOR",
        "outputId": "d679b88a-d81f-4166-fe6a-e955c54e6ace"
      },
      "outputs": [
        {
          "output_type": "stream",
          "name": "stdout",
          "text": [
            "                                       original_text  \\\n",
            "0                                         oh my gosh   \n",
            "1  trouble sleeping, confused mind, restless hear...   \n",
            "2  All wrong, back off dear, forward doubt. Stay ...   \n",
            "3  I've shifted my focus to something else but I'...   \n",
            "4  I'm restless and restless, it's been a month n...   \n",
            "\n",
            "                                        cleaned_text  \\\n",
            "0                                         oh my gosh   \n",
            "1  trouble sleeping confused mind restless heart ...   \n",
            "2  all wrong back off dear forward doubt stay in ...   \n",
            "3  ive shifted my focus to something else but im ...   \n",
            "4  im restless and restless its been a month now ...   \n",
            "\n",
            "                                              tokens  \n",
            "0                                     [oh, my, gosh]  \n",
            "1  [trouble, sleeping, confused, mind, restless, ...  \n",
            "2  [all, wrong, back, off, dear, forward, doubt, ...  \n",
            "3  [ive, shifted, my, focus, to, something, else,...  \n",
            "4  [im, restless, and, restless, its, been, a, mo...  \n"
          ]
        }
      ],
      "source": [
        "# Add a \"tokens\" column, split text into tokens\n",
        "data['tokens'] = data['cleaned_text'].apply(lambda x: x.split())\n",
        "\n",
        "# Preview the dataframe\n",
        "print(data[['original_text', 'cleaned_text', 'tokens']].head())"
      ]
    },
    {
      "cell_type": "markdown",
      "metadata": {
        "id": "lCHSYB0gNlrw"
      },
      "source": [
        "2.4 stop words"
      ]
    },
    {
      "cell_type": "code",
      "execution_count": 43,
      "metadata": {
        "colab": {
          "base_uri": "https://localhost:8080/"
        },
        "id": "7hCsV-u9MJBo",
        "outputId": "78004c7a-430a-4c36-bb1b-d49f98952667"
      },
      "outputs": [
        {
          "output_type": "stream",
          "name": "stderr",
          "text": [
            "[nltk_data] Downloading package stopwords to /root/nltk_data...\n",
            "[nltk_data]   Package stopwords is already up-to-date!\n"
          ]
        },
        {
          "output_type": "stream",
          "name": "stdout",
          "text": [
            "                                       original_text  \\\n",
            "0                                         oh my gosh   \n",
            "1  trouble sleeping, confused mind, restless hear...   \n",
            "2  All wrong, back off dear, forward doubt. Stay ...   \n",
            "3  I've shifted my focus to something else but I'...   \n",
            "4  I'm restless and restless, it's been a month n...   \n",
            "\n",
            "                                        cleaned_text  \\\n",
            "0                                         oh my gosh   \n",
            "1  trouble sleeping confused mind restless heart ...   \n",
            "2  all wrong back off dear forward doubt stay in ...   \n",
            "3  ive shifted my focus to something else but im ...   \n",
            "4  im restless and restless its been a month now ...   \n",
            "\n",
            "                                              tokens  \\\n",
            "0                                     [oh, my, gosh]   \n",
            "1  [trouble, sleeping, confused, mind, restless, ...   \n",
            "2  [all, wrong, back, off, dear, forward, doubt, ...   \n",
            "3  [ive, shifted, my, focus, to, something, else,...   \n",
            "4  [im, restless, and, restless, its, been, a, mo...   \n",
            "\n",
            "                                     filtered_tokens  \n",
            "0                                         [oh, gosh]  \n",
            "1  [trouble, sleeping, confused, mind, restless, ...  \n",
            "2  [wrong, back, dear, forward, doubt, stay, rest...  \n",
            "3  [ive, shifted, focus, something, else, im, sti...  \n",
            "4         [im, restless, restless, month, boy, mean]  \n"
          ]
        }
      ],
      "source": [
        "from nltk.corpus import stopwords\n",
        "import nltk\n",
        "\n",
        "nltk.download('stopwords')\n",
        "stop_words = set(stopwords.words('english'))\n",
        "\n",
        "def remove_stop_words(tokens):\n",
        "    return [token for token in tokens if token not in stop_words]\n",
        "\n",
        "data['filtered_tokens'] = data['tokens'].apply(remove_stop_words)\n",
        "\n",
        "print(data[['original_text', 'cleaned_text', 'tokens', 'filtered_tokens']].head())\n",
        "#\n"
      ]
    },
    {
      "cell_type": "markdown",
      "metadata": {
        "id": "_7a4qskSNndA"
      },
      "source": [
        "2.5 stemming"
      ]
    },
    {
      "cell_type": "code",
      "execution_count": 44,
      "metadata": {
        "colab": {
          "base_uri": "https://localhost:8080/"
        },
        "id": "4Zz3DWkTHzmc",
        "outputId": "d02c6fda-10e5-4b2c-bb79-b36b261c8ba4"
      },
      "outputs": [
        {
          "output_type": "stream",
          "name": "stdout",
          "text": [
            "                                       original_text  \\\n",
            "0                                         oh my gosh   \n",
            "1  trouble sleeping, confused mind, restless hear...   \n",
            "2  All wrong, back off dear, forward doubt. Stay ...   \n",
            "3  I've shifted my focus to something else but I'...   \n",
            "4  I'm restless and restless, it's been a month n...   \n",
            "\n",
            "                                        cleaned_text  \\\n",
            "0                                         oh my gosh   \n",
            "1  trouble sleeping confused mind restless heart ...   \n",
            "2  all wrong back off dear forward doubt stay in ...   \n",
            "3  ive shifted my focus to something else but im ...   \n",
            "4  im restless and restless its been a month now ...   \n",
            "\n",
            "                                              tokens  \\\n",
            "0                                     [oh, my, gosh]   \n",
            "1  [trouble, sleeping, confused, mind, restless, ...   \n",
            "2  [all, wrong, back, off, dear, forward, doubt, ...   \n",
            "3  [ive, shifted, my, focus, to, something, else,...   \n",
            "4  [im, restless, and, restless, its, been, a, mo...   \n",
            "\n",
            "                                     filtered_tokens  \\\n",
            "0                                         [oh, gosh]   \n",
            "1  [trouble, sleeping, confused, mind, restless, ...   \n",
            "2  [wrong, back, dear, forward, doubt, stay, rest...   \n",
            "3  [ive, shifted, focus, something, else, im, sti...   \n",
            "4         [im, restless, restless, month, boy, mean]   \n",
            "\n",
            "                                      stemmed_tokens  \n",
            "0                                         [oh, gosh]  \n",
            "1  [troubl, sleep, confus, mind, restless, heart,...  \n",
            "2  [wrong, back, dear, forward, doubt, stay, rest...  \n",
            "3  [ive, shift, focu, someth, els, im, still, worri]  \n",
            "4         [im, restless, restless, month, boy, mean]  \n"
          ]
        }
      ],
      "source": [
        "from nltk.stem import PorterStemmer\n",
        "\n",
        "# Initialize the stemmer\n",
        "stemmer = PorterStemmer()\n",
        "\n",
        "# Function for stemming\n",
        "def stem_tokens(tokens):\n",
        "    return [stemmer.stem(token) for token in tokens]\n",
        "\n",
        "# Apply stemming to the \"tokens\" column and create a \"stemmed_tokens\" column\n",
        "data['stemmed_tokens'] = data['filtered_tokens'].apply(stem_tokens)\n",
        "\n",
        "# Preview the dataframe\n",
        "print(data[['original_text', 'cleaned_text', 'tokens', 'filtered_tokens', 'stemmed_tokens']].head())\n"
      ]
    },
    {
      "cell_type": "code",
      "execution_count": 45,
      "metadata": {
        "colab": {
          "base_uri": "https://localhost:8080/",
          "height": 206
        },
        "id": "dSE7_lNNPos-",
        "outputId": "8c549516-fdde-4023-b189-95597b7e1803"
      },
      "outputs": [
        {
          "output_type": "execute_result",
          "data": {
            "text/plain": [
              "   Unnamed: 0                                      original_text   status  \\\n",
              "0           0                                         oh my gosh  Anxiety   \n",
              "1           1  trouble sleeping, confused mind, restless hear...  Anxiety   \n",
              "2           2  All wrong, back off dear, forward doubt. Stay ...  Anxiety   \n",
              "3           3  I've shifted my focus to something else but I'...  Anxiety   \n",
              "4           4  I'm restless and restless, it's been a month n...  Anxiety   \n",
              "\n",
              "                                        cleaned_text  \\\n",
              "0                                         oh my gosh   \n",
              "1  trouble sleeping confused mind restless heart ...   \n",
              "2  all wrong back off dear forward doubt stay in ...   \n",
              "3  ive shifted my focus to something else but im ...   \n",
              "4  im restless and restless its been a month now ...   \n",
              "\n",
              "                                              tokens  \\\n",
              "0                                     [oh, my, gosh]   \n",
              "1  [trouble, sleeping, confused, mind, restless, ...   \n",
              "2  [all, wrong, back, off, dear, forward, doubt, ...   \n",
              "3  [ive, shifted, my, focus, to, something, else,...   \n",
              "4  [im, restless, and, restless, its, been, a, mo...   \n",
              "\n",
              "                                     filtered_tokens  \\\n",
              "0                                         [oh, gosh]   \n",
              "1  [trouble, sleeping, confused, mind, restless, ...   \n",
              "2  [wrong, back, dear, forward, doubt, stay, rest...   \n",
              "3  [ive, shifted, focus, something, else, im, sti...   \n",
              "4         [im, restless, restless, month, boy, mean]   \n",
              "\n",
              "                                      stemmed_tokens  \n",
              "0                                         [oh, gosh]  \n",
              "1  [troubl, sleep, confus, mind, restless, heart,...  \n",
              "2  [wrong, back, dear, forward, doubt, stay, rest...  \n",
              "3  [ive, shift, focu, someth, els, im, still, worri]  \n",
              "4         [im, restless, restless, month, boy, mean]  "
            ],
            "text/html": [
              "\n",
              "  <div id=\"df-259ff520-0de3-4b30-99a2-cd14d09e0a5f\" class=\"colab-df-container\">\n",
              "    <div>\n",
              "<style scoped>\n",
              "    .dataframe tbody tr th:only-of-type {\n",
              "        vertical-align: middle;\n",
              "    }\n",
              "\n",
              "    .dataframe tbody tr th {\n",
              "        vertical-align: top;\n",
              "    }\n",
              "\n",
              "    .dataframe thead th {\n",
              "        text-align: right;\n",
              "    }\n",
              "</style>\n",
              "<table border=\"1\" class=\"dataframe\">\n",
              "  <thead>\n",
              "    <tr style=\"text-align: right;\">\n",
              "      <th></th>\n",
              "      <th>Unnamed: 0</th>\n",
              "      <th>original_text</th>\n",
              "      <th>status</th>\n",
              "      <th>cleaned_text</th>\n",
              "      <th>tokens</th>\n",
              "      <th>filtered_tokens</th>\n",
              "      <th>stemmed_tokens</th>\n",
              "    </tr>\n",
              "  </thead>\n",
              "  <tbody>\n",
              "    <tr>\n",
              "      <th>0</th>\n",
              "      <td>0</td>\n",
              "      <td>oh my gosh</td>\n",
              "      <td>Anxiety</td>\n",
              "      <td>oh my gosh</td>\n",
              "      <td>[oh, my, gosh]</td>\n",
              "      <td>[oh, gosh]</td>\n",
              "      <td>[oh, gosh]</td>\n",
              "    </tr>\n",
              "    <tr>\n",
              "      <th>1</th>\n",
              "      <td>1</td>\n",
              "      <td>trouble sleeping, confused mind, restless hear...</td>\n",
              "      <td>Anxiety</td>\n",
              "      <td>trouble sleeping confused mind restless heart ...</td>\n",
              "      <td>[trouble, sleeping, confused, mind, restless, ...</td>\n",
              "      <td>[trouble, sleeping, confused, mind, restless, ...</td>\n",
              "      <td>[troubl, sleep, confus, mind, restless, heart,...</td>\n",
              "    </tr>\n",
              "    <tr>\n",
              "      <th>2</th>\n",
              "      <td>2</td>\n",
              "      <td>All wrong, back off dear, forward doubt. Stay ...</td>\n",
              "      <td>Anxiety</td>\n",
              "      <td>all wrong back off dear forward doubt stay in ...</td>\n",
              "      <td>[all, wrong, back, off, dear, forward, doubt, ...</td>\n",
              "      <td>[wrong, back, dear, forward, doubt, stay, rest...</td>\n",
              "      <td>[wrong, back, dear, forward, doubt, stay, rest...</td>\n",
              "    </tr>\n",
              "    <tr>\n",
              "      <th>3</th>\n",
              "      <td>3</td>\n",
              "      <td>I've shifted my focus to something else but I'...</td>\n",
              "      <td>Anxiety</td>\n",
              "      <td>ive shifted my focus to something else but im ...</td>\n",
              "      <td>[ive, shifted, my, focus, to, something, else,...</td>\n",
              "      <td>[ive, shifted, focus, something, else, im, sti...</td>\n",
              "      <td>[ive, shift, focu, someth, els, im, still, worri]</td>\n",
              "    </tr>\n",
              "    <tr>\n",
              "      <th>4</th>\n",
              "      <td>4</td>\n",
              "      <td>I'm restless and restless, it's been a month n...</td>\n",
              "      <td>Anxiety</td>\n",
              "      <td>im restless and restless its been a month now ...</td>\n",
              "      <td>[im, restless, and, restless, its, been, a, mo...</td>\n",
              "      <td>[im, restless, restless, month, boy, mean]</td>\n",
              "      <td>[im, restless, restless, month, boy, mean]</td>\n",
              "    </tr>\n",
              "  </tbody>\n",
              "</table>\n",
              "</div>\n",
              "    <div class=\"colab-df-buttons\">\n",
              "\n",
              "  <div class=\"colab-df-container\">\n",
              "    <button class=\"colab-df-convert\" onclick=\"convertToInteractive('df-259ff520-0de3-4b30-99a2-cd14d09e0a5f')\"\n",
              "            title=\"Convert this dataframe to an interactive table.\"\n",
              "            style=\"display:none;\">\n",
              "\n",
              "  <svg xmlns=\"http://www.w3.org/2000/svg\" height=\"24px\" viewBox=\"0 -960 960 960\">\n",
              "    <path d=\"M120-120v-720h720v720H120Zm60-500h600v-160H180v160Zm220 220h160v-160H400v160Zm0 220h160v-160H400v160ZM180-400h160v-160H180v160Zm440 0h160v-160H620v160ZM180-180h160v-160H180v160Zm440 0h160v-160H620v160Z\"/>\n",
              "  </svg>\n",
              "    </button>\n",
              "\n",
              "  <style>\n",
              "    .colab-df-container {\n",
              "      display:flex;\n",
              "      gap: 12px;\n",
              "    }\n",
              "\n",
              "    .colab-df-convert {\n",
              "      background-color: #E8F0FE;\n",
              "      border: none;\n",
              "      border-radius: 50%;\n",
              "      cursor: pointer;\n",
              "      display: none;\n",
              "      fill: #1967D2;\n",
              "      height: 32px;\n",
              "      padding: 0 0 0 0;\n",
              "      width: 32px;\n",
              "    }\n",
              "\n",
              "    .colab-df-convert:hover {\n",
              "      background-color: #E2EBFA;\n",
              "      box-shadow: 0px 1px 2px rgba(60, 64, 67, 0.3), 0px 1px 3px 1px rgba(60, 64, 67, 0.15);\n",
              "      fill: #174EA6;\n",
              "    }\n",
              "\n",
              "    .colab-df-buttons div {\n",
              "      margin-bottom: 4px;\n",
              "    }\n",
              "\n",
              "    [theme=dark] .colab-df-convert {\n",
              "      background-color: #3B4455;\n",
              "      fill: #D2E3FC;\n",
              "    }\n",
              "\n",
              "    [theme=dark] .colab-df-convert:hover {\n",
              "      background-color: #434B5C;\n",
              "      box-shadow: 0px 1px 3px 1px rgba(0, 0, 0, 0.15);\n",
              "      filter: drop-shadow(0px 1px 2px rgba(0, 0, 0, 0.3));\n",
              "      fill: #FFFFFF;\n",
              "    }\n",
              "  </style>\n",
              "\n",
              "    <script>\n",
              "      const buttonEl =\n",
              "        document.querySelector('#df-259ff520-0de3-4b30-99a2-cd14d09e0a5f button.colab-df-convert');\n",
              "      buttonEl.style.display =\n",
              "        google.colab.kernel.accessAllowed ? 'block' : 'none';\n",
              "\n",
              "      async function convertToInteractive(key) {\n",
              "        const element = document.querySelector('#df-259ff520-0de3-4b30-99a2-cd14d09e0a5f');\n",
              "        const dataTable =\n",
              "          await google.colab.kernel.invokeFunction('convertToInteractive',\n",
              "                                                    [key], {});\n",
              "        if (!dataTable) return;\n",
              "\n",
              "        const docLinkHtml = 'Like what you see? Visit the ' +\n",
              "          '<a target=\"_blank\" href=https://colab.research.google.com/notebooks/data_table.ipynb>data table notebook</a>'\n",
              "          + ' to learn more about interactive tables.';\n",
              "        element.innerHTML = '';\n",
              "        dataTable['output_type'] = 'display_data';\n",
              "        await google.colab.output.renderOutput(dataTable, element);\n",
              "        const docLink = document.createElement('div');\n",
              "        docLink.innerHTML = docLinkHtml;\n",
              "        element.appendChild(docLink);\n",
              "      }\n",
              "    </script>\n",
              "  </div>\n",
              "\n",
              "\n",
              "<div id=\"df-cfffc3fc-11ec-493b-8ece-ba48738609e0\">\n",
              "  <button class=\"colab-df-quickchart\" onclick=\"quickchart('df-cfffc3fc-11ec-493b-8ece-ba48738609e0')\"\n",
              "            title=\"Suggest charts\"\n",
              "            style=\"display:none;\">\n",
              "\n",
              "<svg xmlns=\"http://www.w3.org/2000/svg\" height=\"24px\"viewBox=\"0 0 24 24\"\n",
              "     width=\"24px\">\n",
              "    <g>\n",
              "        <path d=\"M19 3H5c-1.1 0-2 .9-2 2v14c0 1.1.9 2 2 2h14c1.1 0 2-.9 2-2V5c0-1.1-.9-2-2-2zM9 17H7v-7h2v7zm4 0h-2V7h2v10zm4 0h-2v-4h2v4z\"/>\n",
              "    </g>\n",
              "</svg>\n",
              "  </button>\n",
              "\n",
              "<style>\n",
              "  .colab-df-quickchart {\n",
              "      --bg-color: #E8F0FE;\n",
              "      --fill-color: #1967D2;\n",
              "      --hover-bg-color: #E2EBFA;\n",
              "      --hover-fill-color: #174EA6;\n",
              "      --disabled-fill-color: #AAA;\n",
              "      --disabled-bg-color: #DDD;\n",
              "  }\n",
              "\n",
              "  [theme=dark] .colab-df-quickchart {\n",
              "      --bg-color: #3B4455;\n",
              "      --fill-color: #D2E3FC;\n",
              "      --hover-bg-color: #434B5C;\n",
              "      --hover-fill-color: #FFFFFF;\n",
              "      --disabled-bg-color: #3B4455;\n",
              "      --disabled-fill-color: #666;\n",
              "  }\n",
              "\n",
              "  .colab-df-quickchart {\n",
              "    background-color: var(--bg-color);\n",
              "    border: none;\n",
              "    border-radius: 50%;\n",
              "    cursor: pointer;\n",
              "    display: none;\n",
              "    fill: var(--fill-color);\n",
              "    height: 32px;\n",
              "    padding: 0;\n",
              "    width: 32px;\n",
              "  }\n",
              "\n",
              "  .colab-df-quickchart:hover {\n",
              "    background-color: var(--hover-bg-color);\n",
              "    box-shadow: 0 1px 2px rgba(60, 64, 67, 0.3), 0 1px 3px 1px rgba(60, 64, 67, 0.15);\n",
              "    fill: var(--button-hover-fill-color);\n",
              "  }\n",
              "\n",
              "  .colab-df-quickchart-complete:disabled,\n",
              "  .colab-df-quickchart-complete:disabled:hover {\n",
              "    background-color: var(--disabled-bg-color);\n",
              "    fill: var(--disabled-fill-color);\n",
              "    box-shadow: none;\n",
              "  }\n",
              "\n",
              "  .colab-df-spinner {\n",
              "    border: 2px solid var(--fill-color);\n",
              "    border-color: transparent;\n",
              "    border-bottom-color: var(--fill-color);\n",
              "    animation:\n",
              "      spin 1s steps(1) infinite;\n",
              "  }\n",
              "\n",
              "  @keyframes spin {\n",
              "    0% {\n",
              "      border-color: transparent;\n",
              "      border-bottom-color: var(--fill-color);\n",
              "      border-left-color: var(--fill-color);\n",
              "    }\n",
              "    20% {\n",
              "      border-color: transparent;\n",
              "      border-left-color: var(--fill-color);\n",
              "      border-top-color: var(--fill-color);\n",
              "    }\n",
              "    30% {\n",
              "      border-color: transparent;\n",
              "      border-left-color: var(--fill-color);\n",
              "      border-top-color: var(--fill-color);\n",
              "      border-right-color: var(--fill-color);\n",
              "    }\n",
              "    40% {\n",
              "      border-color: transparent;\n",
              "      border-right-color: var(--fill-color);\n",
              "      border-top-color: var(--fill-color);\n",
              "    }\n",
              "    60% {\n",
              "      border-color: transparent;\n",
              "      border-right-color: var(--fill-color);\n",
              "    }\n",
              "    80% {\n",
              "      border-color: transparent;\n",
              "      border-right-color: var(--fill-color);\n",
              "      border-bottom-color: var(--fill-color);\n",
              "    }\n",
              "    90% {\n",
              "      border-color: transparent;\n",
              "      border-bottom-color: var(--fill-color);\n",
              "    }\n",
              "  }\n",
              "</style>\n",
              "\n",
              "  <script>\n",
              "    async function quickchart(key) {\n",
              "      const quickchartButtonEl =\n",
              "        document.querySelector('#' + key + ' button');\n",
              "      quickchartButtonEl.disabled = true;  // To prevent multiple clicks.\n",
              "      quickchartButtonEl.classList.add('colab-df-spinner');\n",
              "      try {\n",
              "        const charts = await google.colab.kernel.invokeFunction(\n",
              "            'suggestCharts', [key], {});\n",
              "      } catch (error) {\n",
              "        console.error('Error during call to suggestCharts:', error);\n",
              "      }\n",
              "      quickchartButtonEl.classList.remove('colab-df-spinner');\n",
              "      quickchartButtonEl.classList.add('colab-df-quickchart-complete');\n",
              "    }\n",
              "    (() => {\n",
              "      let quickchartButtonEl =\n",
              "        document.querySelector('#df-cfffc3fc-11ec-493b-8ece-ba48738609e0 button');\n",
              "      quickchartButtonEl.style.display =\n",
              "        google.colab.kernel.accessAllowed ? 'block' : 'none';\n",
              "    })();\n",
              "  </script>\n",
              "</div>\n",
              "\n",
              "    </div>\n",
              "  </div>\n"
            ],
            "application/vnd.google.colaboratory.intrinsic+json": {
              "type": "dataframe",
              "variable_name": "data",
              "summary": "{\n  \"name\": \"data\",\n  \"rows\": 53043,\n  \"fields\": [\n    {\n      \"column\": \"Unnamed: 0\",\n      \"properties\": {\n        \"dtype\": \"number\",\n        \"std\": 15312,\n        \"min\": 0,\n        \"max\": 53042,\n        \"num_unique_values\": 53043,\n        \"samples\": [\n          22261,\n          41400,\n          20065\n        ],\n        \"semantic_type\": \"\",\n        \"description\": \"\"\n      }\n    },\n    {\n      \"column\": \"original_text\",\n      \"properties\": {\n        \"dtype\": \"string\",\n        \"num_unique_values\": 51073,\n        \"samples\": [\n          \"he's been a chain smoker for 30 years.\",\n          \"Dependence on therapist I attend IOP groups and individual therapy sessions at the same place, my therapist who I have worked with on and off for a year and a couple months just told me today that she is leaving soon and I am heartbroken. I love my therapist and I don't know how I am going to keep progressing without her. There will be a replacement for her but idk what to do, I don't want a different therapist. :(\",\n          \"These feelings constantly come back. Someone from my past that hurt me came back a month ago and once again disrespected me and i just feel like shit. Idk why these feelings keep resurfacing but it just hurts. I do not want to be over dramatic but Its hurts when you were nothing but loving/kind to someone and they disrespect you. I just hate feeling like this, feeling like i cannot trust anyone or that no one would ever truly love me unless i have something to offer. I am always worried about my looks and its just making me depressed. I really do not feel like i fit in with the world I am just here. Idk what my next step should be to get help but I am really going through it. (Yes I am in therapy) but how do i help myself ? I have been depressed/anxious for years and most day i do not even leave my house. But nobody around me seems to care and honestly I am tired of feeling this way. But at the same time i do not want to give up on myself bc i feel like I am here to be somebody great. I am just trying to find my way right now. It keeps coming back\"\n        ],\n        \"semantic_type\": \"\",\n        \"description\": \"\"\n      }\n    },\n    {\n      \"column\": \"status\",\n      \"properties\": {\n        \"dtype\": \"category\",\n        \"num_unique_values\": 7,\n        \"samples\": [\n          \"Anxiety\",\n          \"Normal\",\n          \"Bipolar\"\n        ],\n        \"semantic_type\": \"\",\n        \"description\": \"\"\n      }\n    },\n    {\n      \"column\": \"cleaned_text\",\n      \"properties\": {\n        \"dtype\": \"string\",\n        \"num_unique_values\": 50908,\n        \"samples\": [\n          \"hi i suffer from mild anxiety not many physical symptom anybody ha tip to deal with anxiety that aren t in the stay positive realm usually the help i find online is about staying positive however that is not my mindset i think life is not meant to be positive always and i genuinely believe it s bad for mental health to try and see the bright side of any situation negative feeling are just meant to be lived thru at the same time i know my brain lie to me about people disliking me about sounding like a fool about my future the most tricky part is that i also can t stop thinking about the truly awful stuff mostly about the world being a terrible place the stay positive people can not tell me the bright side of my shoe being made thru human exploitation in a remote country you know how can i be happy knowing there s all this pain in the world\",\n          \"grr i want to keep reading but if i do i wont have anything left to read\",\n          \"b wanted her to come with him to chile a place she has always wanted to go and spend a week or two exploring together in her writing she seemed genuinely conflicted the next day b tried to kiss her but she said that she couldnt b said he was falling for her he really wanted her to go with her to chile\"\n        ],\n        \"semantic_type\": \"\",\n        \"description\": \"\"\n      }\n    },\n    {\n      \"column\": \"tokens\",\n      \"properties\": {\n        \"dtype\": \"object\",\n        \"semantic_type\": \"\",\n        \"description\": \"\"\n      }\n    },\n    {\n      \"column\": \"filtered_tokens\",\n      \"properties\": {\n        \"dtype\": \"object\",\n        \"semantic_type\": \"\",\n        \"description\": \"\"\n      }\n    },\n    {\n      \"column\": \"stemmed_tokens\",\n      \"properties\": {\n        \"dtype\": \"object\",\n        \"semantic_type\": \"\",\n        \"description\": \"\"\n      }\n    }\n  ]\n}"
            }
          },
          "metadata": {},
          "execution_count": 45
        }
      ],
      "source": [
        "data.head()"
      ]
    },
    {
      "cell_type": "code",
      "source": [
        "# First check where the NaN values are\n",
        "print(\"Columns with NaN values:\")\n",
        "print(data.isnull().sum())"
      ],
      "metadata": {
        "id": "-UpGQUyiIlhh",
        "colab": {
          "base_uri": "https://localhost:8080/"
        },
        "outputId": "418ca293-0e05-486a-9646-3a1816a7290b"
      },
      "execution_count": 46,
      "outputs": [
        {
          "output_type": "stream",
          "name": "stdout",
          "text": [
            "Columns with NaN values:\n",
            "Unnamed: 0           0\n",
            "original_text      362\n",
            "status               0\n",
            "cleaned_text         0\n",
            "tokens               0\n",
            "filtered_tokens      0\n",
            "stemmed_tokens       0\n",
            "dtype: int64\n"
          ]
        }
      ]
    },
    {
      "cell_type": "markdown",
      "metadata": {
        "id": "snH2evFKwQtJ"
      },
      "source": [
        "## Split the data"
      ]
    },
    {
      "cell_type": "code",
      "execution_count": 47,
      "metadata": {
        "colab": {
          "base_uri": "https://localhost:8080/"
        },
        "id": "aWuVEKdSwQZh",
        "outputId": "9bf7a18f-d337-42a8-8aec-f315c70c1337"
      },
      "outputs": [
        {
          "output_type": "stream",
          "name": "stdout",
          "text": [
            "Train size: 31825\n",
            "Dev size: 10609\n",
            "Test size: 10609\n"
          ]
        }
      ],
      "source": [
        "from sklearn.model_selection import train_test_split\n",
        "\n",
        "# Step 1: Split into train (80%) and test (20%)\n",
        "train_data, test_data = train_test_split(\n",
        "    data,\n",
        "    test_size=0.2,\n",
        "    random_state=42,\n",
        "    stratify=data['status']\n",
        ")\n",
        "\n",
        "# Step 2: Further split train into train (65%) and dev (15%)\n",
        "train_data, dev_data = train_test_split(\n",
        "    train_data,\n",
        "    test_size=0.25,  # 0.25 x 0.8 = 0.2 (15% of the original data)\n",
        "    random_state=42,\n",
        "    stratify=train_data['status']\n",
        ")\n",
        "\n",
        "# Print sizes for verification\n",
        "print(f\"Train size: {len(train_data)}\")\n",
        "print(f\"Dev size: {len(dev_data)}\")\n",
        "print(f\"Test size: {len(test_data)}\")\n",
        "\n"
      ]
    },
    {
      "cell_type": "code",
      "execution_count": 48,
      "metadata": {
        "colab": {
          "base_uri": "https://localhost:8080/"
        },
        "id": "ADXoFcLoQElC",
        "outputId": "36ca14db-4c0f-4f47-dea1-33ef6cab2f7e"
      },
      "outputs": [
        {
          "output_type": "stream",
          "name": "stdout",
          "text": [
            "Train distribution:\n",
            "status\n",
            "Normal                  9811\n",
            "Depression              9242\n",
            "Suicidal                6391\n",
            "Anxiety                 2332\n",
            "Bipolar                 1727\n",
            "Stress                  1601\n",
            "Personality disorder     721\n",
            "Name: count, dtype: int64\n",
            "Dev distribution:\n",
            "status\n",
            "Normal                  3270\n",
            "Depression              3081\n",
            "Suicidal                2131\n",
            "Anxiety                  778\n",
            "Bipolar                  575\n",
            "Stress                   534\n",
            "Personality disorder     240\n",
            "Name: count, dtype: int64\n",
            "Test distribution:\n",
            "status\n",
            "Normal                  3270\n",
            "Depression              3081\n",
            "Suicidal                2131\n",
            "Anxiety                  778\n",
            "Bipolar                  575\n",
            "Stress                   534\n",
            "Personality disorder     240\n",
            "Name: count, dtype: int64\n"
          ]
        }
      ],
      "source": [
        "print(\"Train distribution:\")\n",
        "print(train_data['status'].value_counts())\n",
        "\n",
        "print(\"Dev distribution:\")\n",
        "print(dev_data['status'].value_counts())\n",
        "\n",
        "print(\"Test distribution:\")\n",
        "print(test_data['status'].value_counts())\n"
      ]
    },
    {
      "cell_type": "markdown",
      "metadata": {
        "id": "6OdawuJV7ix0"
      },
      "source": [
        "## Feature Extraction"
      ]
    },
    {
      "cell_type": "markdown",
      "metadata": {
        "id": "eq1EjxSQQwMS"
      },
      "source": [
        "**generate** **Bag of Words**"
      ]
    },
    {
      "cell_type": "code",
      "execution_count": 49,
      "metadata": {
        "colab": {
          "base_uri": "https://localhost:8080/"
        },
        "id": "9pEcxo-a7lQ3",
        "outputId": "6072dc3b-ea6c-441d-a8a5-c5e85aa76e50"
      },
      "outputs": [
        {
          "output_type": "stream",
          "name": "stdout",
          "text": [
            "40845    {'unigram:mizzzidc': 1.0, 'unigram:pair': 1.0,...\n",
            "11017    {'unigram:stare': 1.0, 'unigram:pack': 1.0, 'u...\n",
            "18483    {'unigram:sold': 1.0, 'unigram:hous': 1.0, 'un...\n",
            "42193    {'unigram:also': 1.0, 'unigram:shouldv': 1.0, ...\n",
            "45792    {'unigram:get': 1.0, 'unigram:hous': 1.0, 'uni...\n",
            "Name: features, dtype: object\n"
          ]
        }
      ],
      "source": [
        "# Function to generate Bag of Words feature dictionaries\n",
        "def generate_bow_features(tokens):\n",
        "    features = {}\n",
        "    for token in tokens:\n",
        "        features[f\"unigram:{token}\"] = 1.0\n",
        "    return features\n",
        "\n",
        "# Apply the function to each dataset split\n",
        "train_data['features'] = train_data['stemmed_tokens'].apply(generate_bow_features)\n",
        "dev_data['features'] = dev_data['stemmed_tokens'].apply(generate_bow_features)\n",
        "test_data['features'] = test_data['stemmed_tokens'].apply(generate_bow_features)\n",
        "\n",
        "# Preview feature dictionaries\n",
        "print(train_data['features'].head())\n"
      ]
    },
    {
      "cell_type": "markdown",
      "metadata": {
        "id": "lK5HMIVKfUTI"
      },
      "source": [
        "**Add Bigram Features**"
      ]
    },
    {
      "cell_type": "code",
      "execution_count": 50,
      "metadata": {
        "colab": {
          "base_uri": "https://localhost:8080/"
        },
        "id": "3KKQT6wufTyV",
        "outputId": "ff59bc9e-b833-4d32-c0c8-1bf4b749c625"
      },
      "outputs": [
        {
          "output_type": "stream",
          "name": "stdout",
          "text": [
            "                                         filtered_tokens  \\\n",
            "40845  [mizzzidc, pair, nike, spiral, back, depressio...   \n",
            "11017  [staring, packed, apartment, feeling, ungodly,...   \n",
            "18483  [sold, house, back, march, rough, run, since, ...   \n",
            "42193          [also, shouldve, bern, asleep, hour, ago]   \n",
            "45792  [getting, house, feeling, like, shit, grocery,...   \n",
            "\n",
            "                                                 bigrams  \n",
            "40845  [mizzzidc_pair, pair_nike, nike_spiral, spiral...  \n",
            "11017  [staring_packed, packed_apartment, apartment_f...  \n",
            "18483  [sold_house, house_back, back_march, march_rou...  \n",
            "42193  [also_shouldve, shouldve_bern, bern_asleep, as...  \n",
            "45792  [getting_house, house_feeling, feeling_like, l...  \n"
          ]
        }
      ],
      "source": [
        "from nltk import ngrams\n",
        "\n",
        "# Function to extract bigrams\n",
        "def extract_bigrams(tokens):\n",
        "    bigrams = ['_'.join(bigram) for bigram in ngrams(tokens, 2)]\n",
        "    return bigrams\n",
        "\n",
        "# Apply bigram extraction\n",
        "train_data['bigrams'] = train_data['filtered_tokens'].apply(extract_bigrams)\n",
        "dev_data['bigrams'] = dev_data['filtered_tokens'].apply(extract_bigrams)\n",
        "test_data['bigrams'] = test_data['filtered_tokens'].apply(extract_bigrams)\n",
        "\n",
        "# Check the results\n",
        "print(train_data[['filtered_tokens', 'bigrams']].head())\n"
      ]
    },
    {
      "cell_type": "markdown",
      "metadata": {
        "id": "ZsBD3oNsUohl"
      },
      "source": [
        "**Add sentiment features**"
      ]
    },
    {
      "cell_type": "code",
      "execution_count": 51,
      "metadata": {
        "colab": {
          "base_uri": "https://localhost:8080/"
        },
        "id": "EgvicRhGcDiJ",
        "outputId": "da7f6a86-d5e7-41b3-ec72-b51d3f679f5b"
      },
      "outputs": [
        {
          "output_type": "stream",
          "name": "stderr",
          "text": [
            "[nltk_data] Downloading package vader_lexicon to /root/nltk_data...\n"
          ]
        }
      ],
      "source": [
        "from nltk.sentiment import SentimentIntensityAnalyzer\n",
        "import nltk\n",
        "\n",
        "# Download VADER lexicon if not already done\n",
        "nltk.download('vader_lexicon')\n",
        "\n",
        "# Initialize the Sentiment Analyzer\n",
        "sia = SentimentIntensityAnalyzer()\n"
      ]
    },
    {
      "cell_type": "code",
      "execution_count": 52,
      "metadata": {
        "id": "by8cKj3icHmF"
      },
      "outputs": [],
      "source": [
        "# Function to extract sentiment scores\n",
        "def get_sentiment_scores(text):\n",
        "    scores = sia.polarity_scores(text)\n",
        "    return scores['pos'], scores['neu'], scores['neg'], scores['compound']\n"
      ]
    },
    {
      "cell_type": "code",
      "execution_count": 53,
      "metadata": {
        "id": "Zd8CrkVMcKUD"
      },
      "outputs": [],
      "source": [
        "# Apply sentiment analysis to train, dev, and test sets\n",
        "train_data[['sent_pos', 'sent_neu', 'sent_neg', 'sent_compound']] = train_data['cleaned_text'].apply(\n",
        "    lambda x: pd.Series(get_sentiment_scores(x))\n",
        ")\n",
        "dev_data[['sent_pos', 'sent_neu', 'sent_neg', 'sent_compound']] = dev_data['cleaned_text'].apply(\n",
        "    lambda x: pd.Series(get_sentiment_scores(x))\n",
        ")\n",
        "test_data[['sent_pos', 'sent_neu', 'sent_neg', 'sent_compound']] = test_data['cleaned_text'].apply(\n",
        "    lambda x: pd.Series(get_sentiment_scores(x))\n",
        ")\n"
      ]
    },
    {
      "cell_type": "code",
      "execution_count": 54,
      "metadata": {
        "colab": {
          "base_uri": "https://localhost:8080/"
        },
        "id": "I9rEVwAtcyX1",
        "outputId": "874bfc2e-a819-478b-931c-9bf0683dcce1"
      },
      "outputs": [
        {
          "output_type": "stream",
          "name": "stdout",
          "text": [
            "                                            cleaned_text  sent_pos  sent_neu  \\\n",
            "40845  mizzzidc how can a pair of nike spiral you bac...     0.118     0.785   \n",
            "11017  just staring at my packed up apartment and fee...     0.233     0.661   \n",
            "18483  i sold my house back in march its been a rough...     0.060     0.841   \n",
            "42193            also i shouldve bern asleep an hour ago     0.000     1.000   \n",
            "45792  getting out of the house while feeling like sh...     0.086     0.794   \n",
            "\n",
            "       sent_neg  sent_compound  \n",
            "40845     0.097        -0.0475  \n",
            "11017     0.106         0.8406  \n",
            "18483     0.099        -0.9012  \n",
            "42193     0.000         0.0000  \n",
            "45792     0.121        -0.8681  \n"
          ]
        }
      ],
      "source": [
        "# Check the first few rows to confirm sentiment features were added\n",
        "print(train_data[['cleaned_text', 'sent_pos', 'sent_neu', 'sent_neg', 'sent_compound']].head())\n"
      ]
    },
    {
      "cell_type": "code",
      "execution_count": 55,
      "metadata": {
        "id": "KsQR5wdBc1Qc"
      },
      "outputs": [],
      "source": [
        "# Normalize sentiment features to non-negative range\n",
        "def normalize_sentiment_features(row):\n",
        "    normalized_features = {\n",
        "        \"sent_pos\": row['sent_pos'],\n",
        "        \"sent_neu\": row['sent_neu'],\n",
        "        \"sent_neg\": row['sent_neg'],\n",
        "        \"sent_compound\": (row['sent_compound'] + 1) / 2  # Normalize from [-1, 1] to [0, 1]\n",
        "    }\n",
        "    return normalized_features\n",
        "\n",
        "# Apply normalization to train, dev, and test sets\n",
        "train_data['sentiment_features_normalized'] = train_data.apply(normalize_sentiment_features, axis=1)\n",
        "dev_data['sentiment_features_normalized'] = dev_data.apply(normalize_sentiment_features, axis=1)\n",
        "test_data['sentiment_features_normalized'] = test_data.apply(normalize_sentiment_features, axis=1)\n"
      ]
    },
    {
      "cell_type": "code",
      "execution_count": 56,
      "metadata": {
        "colab": {
          "base_uri": "https://localhost:8080/",
          "height": 501
        },
        "id": "kAwrkutDYSJh",
        "outputId": "ab9474af-8c0b-4b8d-e934-95eccaf3be99"
      },
      "outputs": [
        {
          "output_type": "execute_result",
          "data": {
            "text/plain": [
              "       Unnamed: 0                                      original_text  \\\n",
              "40845       40845  mizzzidc how can a pair of nike spiral you bac...   \n",
              "11017       11017  Just staring at my packed up apartment and fee...   \n",
              "18483       18483  I sold my house back in March. Its been a roug...   \n",
              "42193       42193            also i shouldve bern asleep an hour ago   \n",
              "45792       45792  Getting out of the house while feeling like sh...   \n",
              "\n",
              "           status                                       cleaned_text  \\\n",
              "40845  Depression  mizzzidc how can a pair of nike spiral you bac...   \n",
              "11017    Suicidal  just staring at my packed up apartment and fee...   \n",
              "18483    Suicidal  i sold my house back in march its been a rough...   \n",
              "42193      Normal            also i shouldve bern asleep an hour ago   \n",
              "45792     Bipolar  getting out of the house while feeling like sh...   \n",
              "\n",
              "                                                  tokens  \\\n",
              "40845  [mizzzidc, how, can, a, pair, of, nike, spiral...   \n",
              "11017  [just, staring, at, my, packed, up, apartment,...   \n",
              "18483  [i, sold, my, house, back, in, march, its, bee...   \n",
              "42193   [also, i, shouldve, bern, asleep, an, hour, ago]   \n",
              "45792  [getting, out, of, the, house, while, feeling,...   \n",
              "\n",
              "                                         filtered_tokens  \\\n",
              "40845  [mizzzidc, pair, nike, spiral, back, depressio...   \n",
              "11017  [staring, packed, apartment, feeling, ungodly,...   \n",
              "18483  [sold, house, back, march, rough, run, since, ...   \n",
              "42193          [also, shouldve, bern, asleep, hour, ago]   \n",
              "45792  [getting, house, feeling, like, shit, grocery,...   \n",
              "\n",
              "                                          stemmed_tokens  \\\n",
              "40845  [mizzzidc, pair, nike, spiral, back, depress, ...   \n",
              "11017  [stare, pack, apart, feel, ungodli, alon, know...   \n",
              "18483  [sold, hous, back, march, rough, run, sinc, pl...   \n",
              "42193           [also, shouldv, bern, asleep, hour, ago]   \n",
              "45792  [get, hous, feel, like, shit, groceri, shop, d...   \n",
              "\n",
              "                                                features  \\\n",
              "40845  {'unigram:mizzzidc': 1.0, 'unigram:pair': 1.0,...   \n",
              "11017  {'unigram:stare': 1.0, 'unigram:pack': 1.0, 'u...   \n",
              "18483  {'unigram:sold': 1.0, 'unigram:hous': 1.0, 'un...   \n",
              "42193  {'unigram:also': 1.0, 'unigram:shouldv': 1.0, ...   \n",
              "45792  {'unigram:get': 1.0, 'unigram:hous': 1.0, 'uni...   \n",
              "\n",
              "                                                 bigrams  sent_pos  sent_neu  \\\n",
              "40845  [mizzzidc_pair, pair_nike, nike_spiral, spiral...     0.118     0.785   \n",
              "11017  [staring_packed, packed_apartment, apartment_f...     0.233     0.661   \n",
              "18483  [sold_house, house_back, back_march, march_rou...     0.060     0.841   \n",
              "42193  [also_shouldve, shouldve_bern, bern_asleep, as...     0.000     1.000   \n",
              "45792  [getting_house, house_feeling, feeling_like, l...     0.086     0.794   \n",
              "\n",
              "       sent_neg  sent_compound  \\\n",
              "40845     0.097        -0.0475   \n",
              "11017     0.106         0.8406   \n",
              "18483     0.099        -0.9012   \n",
              "42193     0.000         0.0000   \n",
              "45792     0.121        -0.8681   \n",
              "\n",
              "                           sentiment_features_normalized  \n",
              "40845  {'sent_pos': 0.118, 'sent_neu': 0.785, 'sent_n...  \n",
              "11017  {'sent_pos': 0.233, 'sent_neu': 0.661, 'sent_n...  \n",
              "18483  {'sent_pos': 0.06, 'sent_neu': 0.841, 'sent_ne...  \n",
              "42193  {'sent_pos': 0.0, 'sent_neu': 1.0, 'sent_neg':...  \n",
              "45792  {'sent_pos': 0.086, 'sent_neu': 0.794, 'sent_n...  "
            ],
            "text/html": [
              "\n",
              "  <div id=\"df-6b4ac1f6-aca3-48ff-96a1-f66c02bf8c5c\" class=\"colab-df-container\">\n",
              "    <div>\n",
              "<style scoped>\n",
              "    .dataframe tbody tr th:only-of-type {\n",
              "        vertical-align: middle;\n",
              "    }\n",
              "\n",
              "    .dataframe tbody tr th {\n",
              "        vertical-align: top;\n",
              "    }\n",
              "\n",
              "    .dataframe thead th {\n",
              "        text-align: right;\n",
              "    }\n",
              "</style>\n",
              "<table border=\"1\" class=\"dataframe\">\n",
              "  <thead>\n",
              "    <tr style=\"text-align: right;\">\n",
              "      <th></th>\n",
              "      <th>Unnamed: 0</th>\n",
              "      <th>original_text</th>\n",
              "      <th>status</th>\n",
              "      <th>cleaned_text</th>\n",
              "      <th>tokens</th>\n",
              "      <th>filtered_tokens</th>\n",
              "      <th>stemmed_tokens</th>\n",
              "      <th>features</th>\n",
              "      <th>bigrams</th>\n",
              "      <th>sent_pos</th>\n",
              "      <th>sent_neu</th>\n",
              "      <th>sent_neg</th>\n",
              "      <th>sent_compound</th>\n",
              "      <th>sentiment_features_normalized</th>\n",
              "    </tr>\n",
              "  </thead>\n",
              "  <tbody>\n",
              "    <tr>\n",
              "      <th>40845</th>\n",
              "      <td>40845</td>\n",
              "      <td>mizzzidc how can a pair of nike spiral you bac...</td>\n",
              "      <td>Depression</td>\n",
              "      <td>mizzzidc how can a pair of nike spiral you bac...</td>\n",
              "      <td>[mizzzidc, how, can, a, pair, of, nike, spiral...</td>\n",
              "      <td>[mizzzidc, pair, nike, spiral, back, depressio...</td>\n",
              "      <td>[mizzzidc, pair, nike, spiral, back, depress, ...</td>\n",
              "      <td>{'unigram:mizzzidc': 1.0, 'unigram:pair': 1.0,...</td>\n",
              "      <td>[mizzzidc_pair, pair_nike, nike_spiral, spiral...</td>\n",
              "      <td>0.118</td>\n",
              "      <td>0.785</td>\n",
              "      <td>0.097</td>\n",
              "      <td>-0.0475</td>\n",
              "      <td>{'sent_pos': 0.118, 'sent_neu': 0.785, 'sent_n...</td>\n",
              "    </tr>\n",
              "    <tr>\n",
              "      <th>11017</th>\n",
              "      <td>11017</td>\n",
              "      <td>Just staring at my packed up apartment and fee...</td>\n",
              "      <td>Suicidal</td>\n",
              "      <td>just staring at my packed up apartment and fee...</td>\n",
              "      <td>[just, staring, at, my, packed, up, apartment,...</td>\n",
              "      <td>[staring, packed, apartment, feeling, ungodly,...</td>\n",
              "      <td>[stare, pack, apart, feel, ungodli, alon, know...</td>\n",
              "      <td>{'unigram:stare': 1.0, 'unigram:pack': 1.0, 'u...</td>\n",
              "      <td>[staring_packed, packed_apartment, apartment_f...</td>\n",
              "      <td>0.233</td>\n",
              "      <td>0.661</td>\n",
              "      <td>0.106</td>\n",
              "      <td>0.8406</td>\n",
              "      <td>{'sent_pos': 0.233, 'sent_neu': 0.661, 'sent_n...</td>\n",
              "    </tr>\n",
              "    <tr>\n",
              "      <th>18483</th>\n",
              "      <td>18483</td>\n",
              "      <td>I sold my house back in March. Its been a roug...</td>\n",
              "      <td>Suicidal</td>\n",
              "      <td>i sold my house back in march its been a rough...</td>\n",
              "      <td>[i, sold, my, house, back, in, march, its, bee...</td>\n",
              "      <td>[sold, house, back, march, rough, run, since, ...</td>\n",
              "      <td>[sold, hous, back, march, rough, run, sinc, pl...</td>\n",
              "      <td>{'unigram:sold': 1.0, 'unigram:hous': 1.0, 'un...</td>\n",
              "      <td>[sold_house, house_back, back_march, march_rou...</td>\n",
              "      <td>0.060</td>\n",
              "      <td>0.841</td>\n",
              "      <td>0.099</td>\n",
              "      <td>-0.9012</td>\n",
              "      <td>{'sent_pos': 0.06, 'sent_neu': 0.841, 'sent_ne...</td>\n",
              "    </tr>\n",
              "    <tr>\n",
              "      <th>42193</th>\n",
              "      <td>42193</td>\n",
              "      <td>also i shouldve bern asleep an hour ago</td>\n",
              "      <td>Normal</td>\n",
              "      <td>also i shouldve bern asleep an hour ago</td>\n",
              "      <td>[also, i, shouldve, bern, asleep, an, hour, ago]</td>\n",
              "      <td>[also, shouldve, bern, asleep, hour, ago]</td>\n",
              "      <td>[also, shouldv, bern, asleep, hour, ago]</td>\n",
              "      <td>{'unigram:also': 1.0, 'unigram:shouldv': 1.0, ...</td>\n",
              "      <td>[also_shouldve, shouldve_bern, bern_asleep, as...</td>\n",
              "      <td>0.000</td>\n",
              "      <td>1.000</td>\n",
              "      <td>0.000</td>\n",
              "      <td>0.0000</td>\n",
              "      <td>{'sent_pos': 0.0, 'sent_neu': 1.0, 'sent_neg':...</td>\n",
              "    </tr>\n",
              "    <tr>\n",
              "      <th>45792</th>\n",
              "      <td>45792</td>\n",
              "      <td>Getting out of the house while feeling like sh...</td>\n",
              "      <td>Bipolar</td>\n",
              "      <td>getting out of the house while feeling like sh...</td>\n",
              "      <td>[getting, out, of, the, house, while, feeling,...</td>\n",
              "      <td>[getting, house, feeling, like, shit, grocery,...</td>\n",
              "      <td>[get, hous, feel, like, shit, groceri, shop, d...</td>\n",
              "      <td>{'unigram:get': 1.0, 'unigram:hous': 1.0, 'uni...</td>\n",
              "      <td>[getting_house, house_feeling, feeling_like, l...</td>\n",
              "      <td>0.086</td>\n",
              "      <td>0.794</td>\n",
              "      <td>0.121</td>\n",
              "      <td>-0.8681</td>\n",
              "      <td>{'sent_pos': 0.086, 'sent_neu': 0.794, 'sent_n...</td>\n",
              "    </tr>\n",
              "  </tbody>\n",
              "</table>\n",
              "</div>\n",
              "    <div class=\"colab-df-buttons\">\n",
              "\n",
              "  <div class=\"colab-df-container\">\n",
              "    <button class=\"colab-df-convert\" onclick=\"convertToInteractive('df-6b4ac1f6-aca3-48ff-96a1-f66c02bf8c5c')\"\n",
              "            title=\"Convert this dataframe to an interactive table.\"\n",
              "            style=\"display:none;\">\n",
              "\n",
              "  <svg xmlns=\"http://www.w3.org/2000/svg\" height=\"24px\" viewBox=\"0 -960 960 960\">\n",
              "    <path d=\"M120-120v-720h720v720H120Zm60-500h600v-160H180v160Zm220 220h160v-160H400v160Zm0 220h160v-160H400v160ZM180-400h160v-160H180v160Zm440 0h160v-160H620v160ZM180-180h160v-160H180v160Zm440 0h160v-160H620v160Z\"/>\n",
              "  </svg>\n",
              "    </button>\n",
              "\n",
              "  <style>\n",
              "    .colab-df-container {\n",
              "      display:flex;\n",
              "      gap: 12px;\n",
              "    }\n",
              "\n",
              "    .colab-df-convert {\n",
              "      background-color: #E8F0FE;\n",
              "      border: none;\n",
              "      border-radius: 50%;\n",
              "      cursor: pointer;\n",
              "      display: none;\n",
              "      fill: #1967D2;\n",
              "      height: 32px;\n",
              "      padding: 0 0 0 0;\n",
              "      width: 32px;\n",
              "    }\n",
              "\n",
              "    .colab-df-convert:hover {\n",
              "      background-color: #E2EBFA;\n",
              "      box-shadow: 0px 1px 2px rgba(60, 64, 67, 0.3), 0px 1px 3px 1px rgba(60, 64, 67, 0.15);\n",
              "      fill: #174EA6;\n",
              "    }\n",
              "\n",
              "    .colab-df-buttons div {\n",
              "      margin-bottom: 4px;\n",
              "    }\n",
              "\n",
              "    [theme=dark] .colab-df-convert {\n",
              "      background-color: #3B4455;\n",
              "      fill: #D2E3FC;\n",
              "    }\n",
              "\n",
              "    [theme=dark] .colab-df-convert:hover {\n",
              "      background-color: #434B5C;\n",
              "      box-shadow: 0px 1px 3px 1px rgba(0, 0, 0, 0.15);\n",
              "      filter: drop-shadow(0px 1px 2px rgba(0, 0, 0, 0.3));\n",
              "      fill: #FFFFFF;\n",
              "    }\n",
              "  </style>\n",
              "\n",
              "    <script>\n",
              "      const buttonEl =\n",
              "        document.querySelector('#df-6b4ac1f6-aca3-48ff-96a1-f66c02bf8c5c button.colab-df-convert');\n",
              "      buttonEl.style.display =\n",
              "        google.colab.kernel.accessAllowed ? 'block' : 'none';\n",
              "\n",
              "      async function convertToInteractive(key) {\n",
              "        const element = document.querySelector('#df-6b4ac1f6-aca3-48ff-96a1-f66c02bf8c5c');\n",
              "        const dataTable =\n",
              "          await google.colab.kernel.invokeFunction('convertToInteractive',\n",
              "                                                    [key], {});\n",
              "        if (!dataTable) return;\n",
              "\n",
              "        const docLinkHtml = 'Like what you see? Visit the ' +\n",
              "          '<a target=\"_blank\" href=https://colab.research.google.com/notebooks/data_table.ipynb>data table notebook</a>'\n",
              "          + ' to learn more about interactive tables.';\n",
              "        element.innerHTML = '';\n",
              "        dataTable['output_type'] = 'display_data';\n",
              "        await google.colab.output.renderOutput(dataTable, element);\n",
              "        const docLink = document.createElement('div');\n",
              "        docLink.innerHTML = docLinkHtml;\n",
              "        element.appendChild(docLink);\n",
              "      }\n",
              "    </script>\n",
              "  </div>\n",
              "\n",
              "\n",
              "<div id=\"df-c3e7af9b-e26b-478c-a9e7-b666c4cdaf84\">\n",
              "  <button class=\"colab-df-quickchart\" onclick=\"quickchart('df-c3e7af9b-e26b-478c-a9e7-b666c4cdaf84')\"\n",
              "            title=\"Suggest charts\"\n",
              "            style=\"display:none;\">\n",
              "\n",
              "<svg xmlns=\"http://www.w3.org/2000/svg\" height=\"24px\"viewBox=\"0 0 24 24\"\n",
              "     width=\"24px\">\n",
              "    <g>\n",
              "        <path d=\"M19 3H5c-1.1 0-2 .9-2 2v14c0 1.1.9 2 2 2h14c1.1 0 2-.9 2-2V5c0-1.1-.9-2-2-2zM9 17H7v-7h2v7zm4 0h-2V7h2v10zm4 0h-2v-4h2v4z\"/>\n",
              "    </g>\n",
              "</svg>\n",
              "  </button>\n",
              "\n",
              "<style>\n",
              "  .colab-df-quickchart {\n",
              "      --bg-color: #E8F0FE;\n",
              "      --fill-color: #1967D2;\n",
              "      --hover-bg-color: #E2EBFA;\n",
              "      --hover-fill-color: #174EA6;\n",
              "      --disabled-fill-color: #AAA;\n",
              "      --disabled-bg-color: #DDD;\n",
              "  }\n",
              "\n",
              "  [theme=dark] .colab-df-quickchart {\n",
              "      --bg-color: #3B4455;\n",
              "      --fill-color: #D2E3FC;\n",
              "      --hover-bg-color: #434B5C;\n",
              "      --hover-fill-color: #FFFFFF;\n",
              "      --disabled-bg-color: #3B4455;\n",
              "      --disabled-fill-color: #666;\n",
              "  }\n",
              "\n",
              "  .colab-df-quickchart {\n",
              "    background-color: var(--bg-color);\n",
              "    border: none;\n",
              "    border-radius: 50%;\n",
              "    cursor: pointer;\n",
              "    display: none;\n",
              "    fill: var(--fill-color);\n",
              "    height: 32px;\n",
              "    padding: 0;\n",
              "    width: 32px;\n",
              "  }\n",
              "\n",
              "  .colab-df-quickchart:hover {\n",
              "    background-color: var(--hover-bg-color);\n",
              "    box-shadow: 0 1px 2px rgba(60, 64, 67, 0.3), 0 1px 3px 1px rgba(60, 64, 67, 0.15);\n",
              "    fill: var(--button-hover-fill-color);\n",
              "  }\n",
              "\n",
              "  .colab-df-quickchart-complete:disabled,\n",
              "  .colab-df-quickchart-complete:disabled:hover {\n",
              "    background-color: var(--disabled-bg-color);\n",
              "    fill: var(--disabled-fill-color);\n",
              "    box-shadow: none;\n",
              "  }\n",
              "\n",
              "  .colab-df-spinner {\n",
              "    border: 2px solid var(--fill-color);\n",
              "    border-color: transparent;\n",
              "    border-bottom-color: var(--fill-color);\n",
              "    animation:\n",
              "      spin 1s steps(1) infinite;\n",
              "  }\n",
              "\n",
              "  @keyframes spin {\n",
              "    0% {\n",
              "      border-color: transparent;\n",
              "      border-bottom-color: var(--fill-color);\n",
              "      border-left-color: var(--fill-color);\n",
              "    }\n",
              "    20% {\n",
              "      border-color: transparent;\n",
              "      border-left-color: var(--fill-color);\n",
              "      border-top-color: var(--fill-color);\n",
              "    }\n",
              "    30% {\n",
              "      border-color: transparent;\n",
              "      border-left-color: var(--fill-color);\n",
              "      border-top-color: var(--fill-color);\n",
              "      border-right-color: var(--fill-color);\n",
              "    }\n",
              "    40% {\n",
              "      border-color: transparent;\n",
              "      border-right-color: var(--fill-color);\n",
              "      border-top-color: var(--fill-color);\n",
              "    }\n",
              "    60% {\n",
              "      border-color: transparent;\n",
              "      border-right-color: var(--fill-color);\n",
              "    }\n",
              "    80% {\n",
              "      border-color: transparent;\n",
              "      border-right-color: var(--fill-color);\n",
              "      border-bottom-color: var(--fill-color);\n",
              "    }\n",
              "    90% {\n",
              "      border-color: transparent;\n",
              "      border-bottom-color: var(--fill-color);\n",
              "    }\n",
              "  }\n",
              "</style>\n",
              "\n",
              "  <script>\n",
              "    async function quickchart(key) {\n",
              "      const quickchartButtonEl =\n",
              "        document.querySelector('#' + key + ' button');\n",
              "      quickchartButtonEl.disabled = true;  // To prevent multiple clicks.\n",
              "      quickchartButtonEl.classList.add('colab-df-spinner');\n",
              "      try {\n",
              "        const charts = await google.colab.kernel.invokeFunction(\n",
              "            'suggestCharts', [key], {});\n",
              "      } catch (error) {\n",
              "        console.error('Error during call to suggestCharts:', error);\n",
              "      }\n",
              "      quickchartButtonEl.classList.remove('colab-df-spinner');\n",
              "      quickchartButtonEl.classList.add('colab-df-quickchart-complete');\n",
              "    }\n",
              "    (() => {\n",
              "      let quickchartButtonEl =\n",
              "        document.querySelector('#df-c3e7af9b-e26b-478c-a9e7-b666c4cdaf84 button');\n",
              "      quickchartButtonEl.style.display =\n",
              "        google.colab.kernel.accessAllowed ? 'block' : 'none';\n",
              "    })();\n",
              "  </script>\n",
              "</div>\n",
              "\n",
              "    </div>\n",
              "  </div>\n"
            ],
            "application/vnd.google.colaboratory.intrinsic+json": {
              "type": "dataframe",
              "variable_name": "train_data",
              "summary": "{\n  \"name\": \"train_data\",\n  \"rows\": 31825,\n  \"fields\": [\n    {\n      \"column\": \"Unnamed: 0\",\n      \"properties\": {\n        \"dtype\": \"number\",\n        \"std\": 15330,\n        \"min\": 2,\n        \"max\": 53042,\n        \"num_unique_values\": 31825,\n        \"samples\": [\n          32051,\n          9118,\n          47394\n        ],\n        \"semantic_type\": \"\",\n        \"description\": \"\"\n      }\n    },\n    {\n      \"column\": \"original_text\",\n      \"properties\": {\n        \"dtype\": \"string\",\n        \"num_unique_values\": 30957,\n        \"samples\": [\n          \"This is just a rant of a random internet stranger that cannot even speak English I was diagnosed with depression couple years ago or so, I was on medication, tried few which did not work and I stuck into one which I have given up on aswell.. I kind of knew I was depressed before I was diagnosed, and even after that I denied it for the longest time, I guess first step to healing is accepting that I am not ok, well here I am couple years later, now I know I am depressed but I do not feel like I have the right to be depressedSomeone once told me that depression was like a dark hound following you around, keeping you down and standing on top of you not letting go, at first I looked at my depression the same way only to realize that my depression is not a hound, its always changing.. Sometimes my depression is the entire room or the building and I sink into it with no way out and at times its a tiny ball that I can throw away for a moment only for it to creep back larger than ever.. It used to be better for me I could move to different city and it felt like the depression was behind for while, but it always caught upto me and always getting its hold on me.. Now my depression is my entire home and even if I try to escape it follows me, coats me into armour that protects me from every good feeling, every little bit of hope and it keeps me locked in tight, squishes me to the husk I have become..Today I tried to break the armour, I paid off the loans I had and went to drive on this road next to the ocean to see if I could sneak away into the darkness of the sea with my car and end it all. I only ended up stopping at the bus stop, crying there wondering what the hell am I going to do with my life, stuck in a limbo being miserable living or creating misery by dying..So I am just here.. lost and afraid.. I do not have the heart to tell anyone how bad I am really doing, I do not even think anyone is going to read any of this and I am more of ranting into the darkness to feel atleast something Depressed, lost and afraid\",\n          \"Does anyone else have an extremely sensitive gut due to anxiety? When my anxiety gets bad I get bowel discomfort. My digestion is poor, and I basically get what amounts to an IBS flare up. I had some anxiety for a couple of days this week and I have been in agony for about 4 days now, long after the anxiety subsided. Last night my gut hurt so bad I couldn't even sleep.\\n\\nI may actually have IBS and it may actually be tied to my anxiety, I don't know. Can anyone else relate to this?\",\n          \"My parents have absolutely ruined me My parents play such a victim mentality and never own up to their mistakes. After all the shitty things they had done they not once recognized it and simply defended themselves by saying they thought it was for the better. They always have thought like this. What about me? the impact it made on me? and how badly it fucked me up. \\n\\nTheres a huge difference in intent and outcome. You cannot justify your shitty behaviors because of your \\u201cgood intent\\u201d\"\n        ],\n        \"semantic_type\": \"\",\n        \"description\": \"\"\n      }\n    },\n    {\n      \"column\": \"status\",\n      \"properties\": {\n        \"dtype\": \"category\",\n        \"num_unique_values\": 7,\n        \"samples\": [\n          \"Depression\",\n          \"Suicidal\",\n          \"Stress\"\n        ],\n        \"semantic_type\": \"\",\n        \"description\": \"\"\n      }\n    },\n    {\n      \"column\": \"cleaned_text\",\n      \"properties\": {\n        \"dtype\": \"string\",\n        \"num_unique_values\": 30873,\n        \"samples\": [\n          \"i am so done i cannot keep living how i am i just want to die all of the time and nothing ever makes me feel better therapy medication even vacations and treating myself i still feel empty and like i do not want to do anything i failed out of college twice i ruined my credit score along with my familys i am such an idiot i have no ambition at all i am not good at anything and i do not want to try anything i just want to but a bullet through my head and be done i do not want to go to school or work or eat its going to be so much easier for my family to be forced to give up on me now than to be disappointed in me over and over again for the rest of my life done\",\n          \"its good to be a dobbies when you sleep when you wake up you are also greeted\",\n          \"why should i care about death why should i feel fear or sadness i see death as something trivial\"\n        ],\n        \"semantic_type\": \"\",\n        \"description\": \"\"\n      }\n    },\n    {\n      \"column\": \"tokens\",\n      \"properties\": {\n        \"dtype\": \"object\",\n        \"semantic_type\": \"\",\n        \"description\": \"\"\n      }\n    },\n    {\n      \"column\": \"filtered_tokens\",\n      \"properties\": {\n        \"dtype\": \"object\",\n        \"semantic_type\": \"\",\n        \"description\": \"\"\n      }\n    },\n    {\n      \"column\": \"stemmed_tokens\",\n      \"properties\": {\n        \"dtype\": \"object\",\n        \"semantic_type\": \"\",\n        \"description\": \"\"\n      }\n    },\n    {\n      \"column\": \"features\",\n      \"properties\": {\n        \"dtype\": \"object\",\n        \"semantic_type\": \"\",\n        \"description\": \"\"\n      }\n    },\n    {\n      \"column\": \"bigrams\",\n      \"properties\": {\n        \"dtype\": \"object\",\n        \"semantic_type\": \"\",\n        \"description\": \"\"\n      }\n    },\n    {\n      \"column\": \"sent_pos\",\n      \"properties\": {\n        \"dtype\": \"number\",\n        \"std\": 0.12038007954850773,\n        \"min\": 0.0,\n        \"max\": 1.0,\n        \"num_unique_values\": 650,\n        \"samples\": [\n          0.597,\n          0.244,\n          0.744\n        ],\n        \"semantic_type\": \"\",\n        \"description\": \"\"\n      }\n    },\n    {\n      \"column\": \"sent_neu\",\n      \"properties\": {\n        \"dtype\": \"number\",\n        \"std\": 0.16627456743894206,\n        \"min\": 0.0,\n        \"max\": 1.0,\n        \"num_unique_values\": 779,\n        \"samples\": [\n          0.362,\n          0.494,\n          0.523\n        ],\n        \"semantic_type\": \"\",\n        \"description\": \"\"\n      }\n    },\n    {\n      \"column\": \"sent_neg\",\n      \"properties\": {\n        \"dtype\": \"number\",\n        \"std\": 0.13038327442357245,\n        \"min\": 0.0,\n        \"max\": 1.0,\n        \"num_unique_values\": 691,\n        \"samples\": [\n          0.383,\n          0.77,\n          0.238\n        ],\n        \"semantic_type\": \"\",\n        \"description\": \"\"\n      }\n    },\n    {\n      \"column\": \"sent_compound\",\n      \"properties\": {\n        \"dtype\": \"number\",\n        \"std\": 0.6598861456763512,\n        \"min\": -0.9999,\n        \"max\": 0.9996,\n        \"num_unique_values\": 8121,\n        \"samples\": [\n          0.1488,\n          0.7937,\n          0.9245\n        ],\n        \"semantic_type\": \"\",\n        \"description\": \"\"\n      }\n    },\n    {\n      \"column\": \"sentiment_features_normalized\",\n      \"properties\": {\n        \"dtype\": \"object\",\n        \"semantic_type\": \"\",\n        \"description\": \"\"\n      }\n    }\n  ]\n}"
            }
          },
          "metadata": {},
          "execution_count": 56
        }
      ],
      "source": [
        "train_data.head()"
      ]
    },
    {
      "cell_type": "markdown",
      "metadata": {
        "id": "GVL0NcWwgGTn"
      },
      "source": [
        "**Combine all features**\n"
      ]
    },
    {
      "cell_type": "code",
      "execution_count": 57,
      "metadata": {
        "id": "M_UKu9ZbgGHJ"
      },
      "outputs": [],
      "source": [
        "# Combine all features into a single dictionary\n",
        "def combine_all_features(row):\n",
        "    features = {}\n",
        "\n",
        "    # Add unigrams\n",
        "    for token in row['filtered_tokens']:\n",
        "        features[f'unigram:{token}'] = 1.0\n",
        "\n",
        "    # Add bigrams\n",
        "    for bigram in row['bigrams']:\n",
        "        features[f'bigram:{bigram}'] = 1.0\n",
        "\n",
        "    # Add normalized sentiment features\n",
        "    features.update(row['sentiment_features_normalized'])\n",
        "\n",
        "    return features\n",
        "\n",
        "# Apply the function to train, dev, and test sets\n",
        "train_data['all_features'] = train_data.apply(combine_all_features, axis=1)\n",
        "dev_data['all_features'] = dev_data.apply(combine_all_features, axis=1)\n",
        "test_data['all_features'] = test_data.apply(combine_all_features, axis=1)\n"
      ]
    },
    {
      "cell_type": "code",
      "execution_count": 58,
      "metadata": {
        "colab": {
          "base_uri": "https://localhost:8080/"
        },
        "id": "wNHi82vP1zK4",
        "outputId": "993de3a7-31a2-4fad-fa87-44cdb33e7d6b"
      },
      "outputs": [
        {
          "output_type": "stream",
          "name": "stdout",
          "text": [
            "40845    {'unigram:mizzzidc': 1.0, 'unigram:pair': 1.0,...\n",
            "11017    {'unigram:staring': 1.0, 'unigram:packed': 1.0...\n",
            "18483    {'unigram:sold': 1.0, 'unigram:house': 1.0, 'u...\n",
            "42193    {'unigram:also': 1.0, 'unigram:shouldve': 1.0,...\n",
            "45792    {'unigram:getting': 1.0, 'unigram:house': 1.0,...\n",
            "Name: all_features, dtype: object\n"
          ]
        }
      ],
      "source": [
        "print(train_data['all_features'].head())"
      ]
    },
    {
      "cell_type": "markdown",
      "metadata": {
        "id": "xj0I7GElaryP"
      },
      "source": [
        "**DictVectorizer**"
      ]
    },
    {
      "cell_type": "code",
      "execution_count": 59,
      "metadata": {
        "id": "AfLX5lDNRIwc"
      },
      "outputs": [],
      "source": [
        "from sklearn.feature_extraction import DictVectorizer\n",
        "\n",
        "# Vectorize the combined features\n",
        "vectorizer = DictVectorizer()\n",
        "X_train = vectorizer.fit_transform(train_data['all_features'])\n",
        "X_dev = vectorizer.transform(dev_data['all_features'])\n",
        "X_test = vectorizer.transform(test_data['all_features'])\n",
        "\n",
        "# Labels\n",
        "y_train = train_data['status']\n",
        "y_dev = dev_data['status']\n",
        "y_test = test_data['status']\n",
        "\n"
      ]
    },
    {
      "cell_type": "code",
      "execution_count": 60,
      "metadata": {
        "colab": {
          "base_uri": "https://localhost:8080/"
        },
        "id": "WCRSNme3W4wF",
        "outputId": "df034c8c-3168-4205-b3e7-f07ae993e0b9"
      },
      "outputs": [
        {
          "output_type": "stream",
          "name": "stdout",
          "text": [
            "['bigram:aa_call', 'bigram:aa_chchance', 'bigram:aa_dont', 'bigram:aa_ggenerator', 'bigram:aa_groups', 'bigram:aa_ha', 'bigram:aa_heard', 'bigram:aa_llot', 'bigram:aa_meeting', 'bigram:aa_meetings']\n",
            "Train Feature Matrix Shape: (31825, 841555)\n"
          ]
        }
      ],
      "source": [
        "# Print feature names\n",
        "print(vectorizer.feature_names_[:10])  # First 10 features\n",
        "print(\"Train Feature Matrix Shape:\", X_train.shape)\n"
      ]
    },
    {
      "cell_type": "markdown",
      "metadata": {
        "id": "I--jfAj9XA5I"
      },
      "source": [
        "## Train Model\n"
      ]
    },
    {
      "cell_type": "markdown",
      "metadata": {
        "id": "2ElW9XnFXFJz"
      },
      "source": [
        "Train logistic regression"
      ]
    },
    {
      "cell_type": "code",
      "execution_count": null,
      "metadata": {
        "colab": {
          "base_uri": "https://localhost:8080/"
        },
        "id": "JhvHD2KAXEZT",
        "outputId": "f7cd065d-8d79-482d-de2c-214f1822b83b"
      },
      "outputs": [
        {
          "output_type": "stream",
          "name": "stdout",
          "text": [
            "Accuracy on Dev Set: 0.7681214063530964\n",
            "\n",
            "Classification Report on Dev Set:\n",
            "                      precision    recall  f1-score   support\n",
            "\n",
            "             Anxiety       0.78      0.79      0.79       778\n",
            "             Bipolar       0.85      0.73      0.79       575\n",
            "          Depression       0.75      0.69      0.72      3081\n",
            "              Normal       0.87      0.95      0.91      3270\n",
            "Personality disorder       0.67      0.72      0.69       240\n",
            "              Stress       0.60      0.55      0.57       534\n",
            "            Suicidal       0.66      0.66      0.66      2131\n",
            "\n",
            "            accuracy                           0.77     10609\n",
            "           macro avg       0.74      0.73      0.73     10609\n",
            "        weighted avg       0.76      0.77      0.77     10609\n",
            "\n"
          ]
        }
      ],
      "source": [
        "from sklearn.linear_model import LogisticRegression\n",
        "from sklearn.metrics import classification_report, accuracy_score\n",
        "\n",
        "# Initialize Logistic Regression with balanced class weights\n",
        "model = LogisticRegression(max_iter=1000, class_weight='balanced', random_state=42)\n",
        "\n",
        "# Train the model on the training set\n",
        "model.fit(X_train, y_train)\n",
        "\n",
        "# Predict on the dev set\n",
        "y_dev_pred = model.predict(X_dev)\n",
        "\n",
        "# Evaluate on the dev set\n",
        "print(\"Accuracy on Dev Set:\", accuracy_score(y_dev, y_dev_pred))\n",
        "print(\"\\nClassification Report on Dev Set:\")\n",
        "print(classification_report(y_dev, y_dev_pred))\n"
      ]
    },
    {
      "cell_type": "code",
      "execution_count": 61,
      "metadata": {
        "id": "9QqOkZz6voen"
      },
      "outputs": [],
      "source": [
        "from sklearn.naive_bayes import MultinomialNB\n",
        "from sklearn.metrics import accuracy_score, classification_report\n",
        "from sklearn.feature_extraction import DictVectorizer\n",
        "from sklearn.ensemble import RandomForestClassifier"
      ]
    },
    {
      "cell_type": "markdown",
      "source": [
        "configurations (dev set)\n"
      ],
      "metadata": {
        "id": "-jeGIZPjA6uS"
      }
    },
    {
      "cell_type": "code",
      "execution_count": null,
      "metadata": {
        "colab": {
          "background_save": true,
          "base_uri": "https://localhost:8080/"
        },
        "id": "GHi_amHd73LA",
        "outputId": "f044fece-a41a-4c5c-d84d-a61208c1c26b"
      },
      "outputs": [
        {
          "name": "stdout",
          "output_type": "stream",
          "text": [
            "Running configuration: {'features': 'unigrams', 'model': 'LogisticRegression', 'C': 0.5}\n",
            "Accuracy: 0.7527570930342162\n",
            "\n",
            "Running configuration: {'features': 'unigrams', 'model': 'LogisticRegression', 'C': 1.0}\n",
            "Accuracy: 0.7471015175794137\n",
            "\n",
            "Running configuration: {'features': 'unigrams', 'model': 'LogisticRegression', 'C': 2.0}\n",
            "Accuracy: 0.7380525968517296\n",
            "\n",
            "Running configuration: {'features': 'unigrams_bigrams_sentiment', 'model': 'LogisticRegression', 'C': 0.5}\n",
            "Accuracy: 0.7708549344895843\n",
            "\n",
            "Running configuration: {'features': 'unigrams_bigrams_sentiment', 'model': 'LogisticRegression', 'C': 1.0}\n",
            "Accuracy: 0.7681214063530964\n",
            "\n",
            "Running configuration: {'features': 'unigrams_bigrams_sentiment', 'model': 'LogisticRegression', 'C': 2.0}\n",
            "Accuracy: 0.7671788104439626\n",
            "\n",
            "Running configuration: {'features': 'unigrams', 'model': 'NaiveBayes', 'alpha': 0.1}\n",
            "Accuracy: 0.6796116504854369\n",
            "\n",
            "Running configuration: {'features': 'unigrams', 'model': 'NaiveBayes', 'alpha': 0.2}\n",
            "Accuracy: 0.6769723819398624\n",
            "\n",
            "Running configuration: {'features': 'unigrams', 'model': 'NaiveBayes', 'alpha': 0.5}\n",
            "Accuracy: 0.6610425110755019\n",
            "\n",
            "Running configuration: {'features': 'unigrams_bigrams_sentiment', 'model': 'NaiveBayes', 'alpha': 0.1}\n",
            "Accuracy: 0.7016683947591668\n",
            "\n",
            "Running configuration: {'features': 'unigrams_bigrams_sentiment', 'model': 'NaiveBayes', 'alpha': 0.2}\n",
            "Accuracy: 0.6840418512583656\n",
            "\n",
            "Running configuration: {'features': 'unigrams_bigrams_sentiment', 'model': 'NaiveBayes', 'alpha': 0.5}\n",
            "Accuracy: 0.6153266094825148\n",
            "\n",
            "Running configuration: {'features': 'unigrams', 'model': 'RandomForest', 'n_estimators': 100}\n",
            "Accuracy: 0.6744273729852013\n",
            "\n",
            "Running configuration: {'features': 'unigrams', 'model': 'RandomForest', 'n_estimators': 200}\n",
            "Accuracy: 0.6786690545763031\n",
            "\n",
            "Running configuration: {'features': 'unigrams_bigrams_sentiment', 'model': 'RandomForest', 'n_estimators': 100}\n",
            "Accuracy: 0.6475633895748892\n",
            "\n",
            "Running configuration: {'features': 'unigrams_bigrams_sentiment', 'model': 'RandomForest', 'n_estimators': 200}\n",
            "Accuracy: 0.6457724573475351\n",
            "\n",
            "Best Configuration:\n",
            "Config: {'features': 'unigrams_bigrams_sentiment', 'model': 'LogisticRegression', 'C': 0.5}\n",
            "Accuracy: 0.7708549344895843\n",
            "Classification Report:\n",
            "                      precision    recall  f1-score   support\n",
            "\n",
            "             Anxiety       0.78      0.80      0.79       778\n",
            "             Bipolar       0.85      0.74      0.79       575\n",
            "          Depression       0.76      0.69      0.72      3081\n",
            "              Normal       0.86      0.95      0.91      3270\n",
            "Personality disorder       0.66      0.72      0.69       240\n",
            "              Stress       0.60      0.55      0.57       534\n",
            "            Suicidal       0.67      0.66      0.66      2131\n",
            "\n",
            "            accuracy                           0.77     10609\n",
            "           macro avg       0.74      0.73      0.73     10609\n",
            "        weighted avg       0.77      0.77      0.77     10609\n",
            "\n"
          ]
        }
      ],
      "source": [
        "# Placeholder for results\n",
        "results = []\n",
        "\n",
        "configurations = [\n",
        "    {\"features\": \"unigrams\", \"model\": \"LogisticRegression\", \"C\": 0.5},\n",
        "    {\"features\": \"unigrams\", \"model\": \"LogisticRegression\", \"C\": 1.0},\n",
        "    {\"features\": \"unigrams\", \"model\": \"LogisticRegression\", \"C\": 2.0},\n",
        "    {\"features\": \"unigrams_bigrams_sentiment\", \"model\": \"LogisticRegression\", \"C\": 0.5},\n",
        "    {\"features\": \"unigrams_bigrams_sentiment\", \"model\": \"LogisticRegression\", \"C\": 1.0},\n",
        "    {\"features\": \"unigrams_bigrams_sentiment\", \"model\": \"LogisticRegression\", \"C\": 2.0},\n",
        "    {\"features\": \"unigrams\", \"model\": \"NaiveBayes\", \"alpha\": 0.1},\n",
        "    {\"features\": \"unigrams\", \"model\": \"NaiveBayes\", \"alpha\": 0.2},\n",
        "    {\"features\": \"unigrams\", \"model\": \"NaiveBayes\", \"alpha\": 0.5},\n",
        "    {\"features\": \"unigrams_bigrams_sentiment\", \"model\": \"NaiveBayes\", \"alpha\": 0.1},\n",
        "    {\"features\": \"unigrams_bigrams_sentiment\", \"model\": \"NaiveBayes\", \"alpha\": 0.2},\n",
        "    {\"features\": \"unigrams_bigrams_sentiment\", \"model\": \"NaiveBayes\", \"alpha\": 0.5},\n",
        "    {\"features\": \"unigrams\", \"model\": \"RandomForest\", \"n_estimators\": 100},\n",
        "    {\"features\": \"unigrams\", \"model\": \"RandomForest\", \"n_estimators\": 200},\n",
        "    {\"features\": \"unigrams_bigrams_sentiment\", \"model\": \"RandomForest\", \"n_estimators\": 100},\n",
        "    {\"features\": \"unigrams_bigrams_sentiment\", \"model\": \"RandomForest\", \"n_estimators\": 200},\n",
        "]\n",
        "\n",
        "# Adjusted feature preparation\n",
        "def prepare_features(config, train, dev):\n",
        "    vectorizer = DictVectorizer()\n",
        "    if config['features'] == 'unigrams':\n",
        "        X_train = vectorizer.fit_transform(train['features'])\n",
        "        X_dev = vectorizer.transform(dev['features'])\n",
        "    elif config['features'] == 'unigrams_bigrams_sentiment':\n",
        "        X_train = vectorizer.fit_transform(train['all_features'])\n",
        "        X_dev = vectorizer.transform(dev['all_features'])\n",
        "    else:\n",
        "        raise ValueError(\"Invalid feature type\")\n",
        "    return X_train, X_dev, vectorizer\n",
        "\n",
        "# Run grid search\n",
        "for config in configurations:\n",
        "    print(f\"Running configuration: {config}\")\n",
        "\n",
        "    # Prepare features\n",
        "    X_train, X_dev, vectorizer = prepare_features(config, train_data, dev_data)\n",
        "    y_train = train_data['status']\n",
        "    y_dev = dev_data['status']\n",
        "\n",
        "    # Train model\n",
        "    if config[\"model\"] == \"LogisticRegression\":\n",
        "        model = LogisticRegression(C=config[\"C\"], class_weight='balanced', max_iter=1000)\n",
        "    elif config[\"model\"] == \"NaiveBayes\":\n",
        "        model = MultinomialNB(alpha=config[\"alpha\"])\n",
        "    elif config[\"model\"] == \"RandomForest\":\n",
        "        model = RandomForestClassifier(n_estimators=config[\"n_estimators\"], random_state=42)\n",
        "    else:\n",
        "        raise ValueError(\"Invalid model\")\n",
        "\n",
        "    model.fit(X_train, y_train)\n",
        "    y_dev_pred = model.predict(X_dev)\n",
        "\n",
        "    # Evaluate model\n",
        "    accuracy = accuracy_score(y_dev, y_dev_pred)\n",
        "    report = classification_report(y_dev, y_dev_pred, zero_division=0)\n",
        "\n",
        "    # Save results\n",
        "    results.append({\"config\": config, \"accuracy\": accuracy, \"report\": report})\n",
        "    print(f\"Accuracy: {accuracy}\\n\")\n",
        "\n",
        "# Display the best configuration\n",
        "best_result = max(results, key=lambda x: x['accuracy'])\n",
        "print(\"Best Configuration:\")\n",
        "print(f\"Config: {best_result['config']}\")\n",
        "print(f\"Accuracy: {best_result['accuracy']}\")\n",
        "print(f\"Classification Report:\\n{best_result['report']}\")\n"
      ]
    },
    {
      "cell_type": "markdown",
      "source": [
        "configurations (test set)"
      ],
      "metadata": {
        "id": "FVDjG5duA_Qm"
      }
    },
    {
      "cell_type": "code",
      "source": [
        "# Best configurations from dev set to evaluate on test set\n",
        "test_configurations = [\n",
        "    {\"features\": \"unigrams_bigrams_sentiment\", \"model\": \"LogisticRegression\", \"C\": 0.5},\n",
        "    {\"features\": \"unigrams_bigrams_sentiment\", \"model\": \"LogisticRegression\", \"C\": 1.0},\n",
        "    {\"features\": \"unigrams_bigrams_sentiment\", \"model\": \"NaiveBayes\", \"alpha\": 0.1}\n",
        "]\n",
        "\n",
        "test_results = []\n",
        "\n",
        "# Run evaluations on test set\n",
        "for config in test_configurations:\n",
        "    print(f\"Running configuration on test set: {config}\")\n",
        "\n",
        "    # Prepare features using the same vectorizer from training\n",
        "    if config['features'] == 'unigrams':\n",
        "        X_train = vectorizer.fit_transform(train_data['features'])\n",
        "        X_test = vectorizer.transform(test_data['features'])\n",
        "    elif config['features'] == 'unigrams_bigrams_sentiment':\n",
        "        X_train = vectorizer.fit_transform(train_data['all_features'])\n",
        "        X_test = vectorizer.transform(test_data['all_features'])\n",
        "\n",
        "    y_train = train_data['status']\n",
        "    y_test = test_data['status']\n",
        "\n",
        "    # Train model\n",
        "    if config[\"model\"] == \"LogisticRegression\":\n",
        "        model = LogisticRegression(C=config[\"C\"], class_weight='balanced', max_iter=1000)\n",
        "    elif config[\"model\"] == \"NaiveBayes\":\n",
        "        model = MultinomialNB(alpha=config[\"alpha\"])\n",
        "\n",
        "    model.fit(X_train, y_train)\n",
        "    y_test_pred = model.predict(X_test)\n",
        "\n",
        "    # Evaluate model\n",
        "    accuracy = accuracy_score(y_test, y_test_pred)\n",
        "    report = classification_report(y_test, y_test_pred, zero_division=0)\n",
        "\n",
        "    # Save results\n",
        "    test_results.append({\n",
        "        \"config\": config,\n",
        "        \"accuracy\": accuracy,\n",
        "        \"report\": report\n",
        "    })\n",
        "    print(f\"Test Accuracy: {accuracy}\\n\")\n",
        "\n",
        "# Print all results\n",
        "for result in test_results:\n",
        "    print(f\"Configuration: {result['config']}\")\n",
        "    print(f\"Test Accuracy: {result['accuracy']:.4f}\")\n",
        "    print(\"-\" * 50)"
      ],
      "metadata": {
        "colab": {
          "base_uri": "https://localhost:8080/"
        },
        "id": "Ow-EdeajDlHt",
        "outputId": "5fd3e75e-9a4f-40c8-b91a-5749b1e5be7e"
      },
      "execution_count": null,
      "outputs": [
        {
          "output_type": "stream",
          "name": "stdout",
          "text": [
            "Running configuration on test set: {'features': 'unigrams_bigrams_sentiment', 'model': 'LogisticRegression', 'C': 0.5}\n",
            "Test Accuracy: 0.7724573475351117\n",
            "\n",
            "Running configuration on test set: {'features': 'unigrams_bigrams_sentiment', 'model': 'LogisticRegression', 'C': 1.0}\n",
            "Test Accuracy: 0.7723630879441983\n",
            "\n",
            "Running configuration on test set: {'features': 'unigrams_bigrams_sentiment', 'model': 'NaiveBayes', 'alpha': 0.1}\n",
            "Test Accuracy: 0.7055330379866152\n",
            "\n",
            "Configuration: {'features': 'unigrams_bigrams_sentiment', 'model': 'LogisticRegression', 'C': 0.5}\n",
            "Test Accuracy: 0.7725\n",
            "--------------------------------------------------\n",
            "Configuration: {'features': 'unigrams_bigrams_sentiment', 'model': 'LogisticRegression', 'C': 1.0}\n",
            "Test Accuracy: 0.7724\n",
            "--------------------------------------------------\n",
            "Configuration: {'features': 'unigrams_bigrams_sentiment', 'model': 'NaiveBayes', 'alpha': 0.1}\n",
            "Test Accuracy: 0.7055\n",
            "--------------------------------------------------\n"
          ]
        }
      ]
    },
    {
      "cell_type": "markdown",
      "source": [
        "Train model using best configuration"
      ],
      "metadata": {
        "id": "UIjBGna80eWP"
      }
    },
    {
      "cell_type": "code",
      "source": [
        "from sklearn.linear_model import LogisticRegression\n",
        "from sklearn.metrics import classification_report, accuracy_score\n",
        "\n",
        "# Initialize Logistic Regression with balanced class weights\n",
        "model = LogisticRegression(C=0.5, max_iter=1000, class_weight='balanced', random_state=42)\n",
        "\n",
        "# Train the model on the training set\n",
        "model.fit(X_train, y_train)\n",
        "\n",
        "# Predict on the dev set\n",
        "y_dev_pred = model.predict(X_dev)\n",
        "\n",
        "# Evaluate on the dev set\n",
        "print(\"Accuracy on Dev Set:\", accuracy_score(y_dev, y_dev_pred))\n",
        "print(\"\\nClassification Report on Dev Set:\")\n",
        "print(classification_report(y_dev, y_dev_pred))\n",
        "\n",
        "# Test set evaluation\n",
        "X_test = vectorizer.transform(test_data['all_features'])\n",
        "y_test = test_data['status']\n",
        "y_test_pred = model.predict(X_test)\n",
        "\n",
        "print(\"Accuracy on Test Set:\")\n",
        "print(accuracy_score(y_test, y_test_pred))\n",
        "print(\"Classification Report on Test Set:\")\n",
        "print(classification_report(y_test, y_test_pred, zero_division=0))"
      ],
      "metadata": {
        "colab": {
          "base_uri": "https://localhost:8080/"
        },
        "id": "ZYFQCtAG0eB6",
        "outputId": "64b86eb0-d701-40ce-cf08-6d435cff565a"
      },
      "execution_count": 62,
      "outputs": [
        {
          "output_type": "stream",
          "name": "stdout",
          "text": [
            "Accuracy on Dev Set: 0.7708549344895843\n",
            "\n",
            "Classification Report on Dev Set:\n",
            "                      precision    recall  f1-score   support\n",
            "\n",
            "             Anxiety       0.78      0.80      0.79       778\n",
            "             Bipolar       0.85      0.74      0.79       575\n",
            "          Depression       0.76      0.69      0.72      3081\n",
            "              Normal       0.86      0.95      0.91      3270\n",
            "Personality disorder       0.66      0.72      0.69       240\n",
            "              Stress       0.60      0.55      0.57       534\n",
            "            Suicidal       0.67      0.66      0.66      2131\n",
            "\n",
            "            accuracy                           0.77     10609\n",
            "           macro avg       0.74      0.73      0.73     10609\n",
            "        weighted avg       0.77      0.77      0.77     10609\n",
            "\n",
            "Accuracy on Test Set:\n",
            "0.7724573475351117\n",
            "Classification Report on Test Set:\n",
            "                      precision    recall  f1-score   support\n",
            "\n",
            "             Anxiety       0.79      0.77      0.78       778\n",
            "             Bipolar       0.80      0.72      0.76       575\n",
            "          Depression       0.76      0.69      0.73      3081\n",
            "              Normal       0.87      0.95      0.91      3270\n",
            "Personality disorder       0.64      0.68      0.66       240\n",
            "              Stress       0.60      0.59      0.59       534\n",
            "            Suicidal       0.67      0.68      0.67      2131\n",
            "\n",
            "            accuracy                           0.77     10609\n",
            "           macro avg       0.73      0.73      0.73     10609\n",
            "        weighted avg       0.77      0.77      0.77     10609\n",
            "\n"
          ]
        }
      ]
    },
    {
      "cell_type": "markdown",
      "metadata": {
        "id": "X5efWd1J6_g9"
      },
      "source": [
        "## Confusion matrix"
      ]
    },
    {
      "cell_type": "code",
      "source": [
        "import matplotlib.pyplot as plt\n",
        "from sklearn.metrics import confusion_matrix, ConfusionMatrixDisplay\n",
        "\n",
        "labels = sorted(y_test.unique())\n",
        "conf_matrix = confusion_matrix(y_test, y_test_pred, labels=labels)\n",
        "\n",
        "plt.figure(figsize=(10, 8))\n",
        "disp = ConfusionMatrixDisplay(confusion_matrix=conf_matrix, display_labels=labels)\n",
        "disp.plot(cmap=\"Blues\", values_format=\"d\")\n",
        "plt.title(\"Confusion Matrix for Best Configuration on Test Set\")\n",
        "plt.xticks(rotation=45)\n",
        "plt.show()"
      ],
      "metadata": {
        "id": "cIJBMW2hH7n6",
        "colab": {
          "base_uri": "https://localhost:8080/",
          "height": 583
        },
        "outputId": "1350450e-7da9-4b51-a222-2c4f184e52ad"
      },
      "execution_count": 64,
      "outputs": [
        {
          "output_type": "display_data",
          "data": {
            "text/plain": [
              "<Figure size 1000x800 with 0 Axes>"
            ]
          },
          "metadata": {}
        },
        {
          "output_type": "display_data",
          "data": {
            "text/plain": [
              "<Figure size 640x480 with 2 Axes>"
            ],
            "image/png": "[encoded data removed]"
          },
          "metadata": {}
        }
      ]
    }
  ],
  "metadata": {
    "colab": {
      "provenance": [],
      "collapsed_sections": [
        "6hTHoM6UBjWQ",
        "XFdb9ZNo_JN2",
        "6OdawuJV7ix0"
      ]
    },
    "kernelspec": {
      "display_name": "Python 3",
      "name": "python3"
    },
    "language_info": {
      "name": "python"
    }
  },
  "nbformat": 4,
  "nbformat_minor": 0
}